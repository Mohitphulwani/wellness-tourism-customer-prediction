{
 "cells": [
  {
   "cell_type": "markdown",
   "metadata": {},
   "source": [
    "## Project Overview \n",
    "\n",
    "My company, \"Visit with Us\" seeks to expand its customer base by employing a more data-driven business model. \n",
    "\n",
    "Visit with Us is planning to launch a new product called the \"Wellness Tourism Package\" which allows the traveler to maintain, enhance or kick-start a healthy lifestyle - and support or increase their sense of well-being.\n",
    "\n",
    "Unlike last year's campaign, our company wants to harness the available data of existing and potential customers to make the marketing expenditure more efficient.\n",
    "\n",
    "#### The objective is to build a model to predict the customers most likely to purchase the \"Wellness Tourism\" travel package.\n",
    "\n",
    "This notebook is a summary of my customer data analysis, model building, and insights - which serves as the basis for my recommendations to senior management. "
   ]
  },
  {
   "cell_type": "markdown",
   "metadata": {},
   "source": [
    "## Notebook Contents\n"
   ]
  },
  {
   "cell_type": "markdown",
   "metadata": {},
   "source": [
    "### Notebook Contents\n",
    "- <a href= \"#link1\">1.Data Loading and Initial Review </a>\n",
    "- <a href= \"#link2\">2.Exploratory Data Analysis (EDA): Univariate Analysis </a>\n",
    "- <a href= \"#link3\">3.Exploratory Data Analysis (EDA): Multivariate Analysis </a>\n",
    "- <a href= \"#link4\">4.Data Pre-Processing (for Modeling) </a>\n",
    "- <a href= \"#link5\">5.Modeling: Bagging </a>\n",
    "- <a href= \"#link6\">6.Modeling: Boosting </a>\n",
    "- <a href= \"#link7\">7.Final Insights and Recommendations </a>"
   ]
  },
  {
   "cell_type": "markdown",
   "metadata": {},
   "source": [
    "## <a id = \"link1\">Data Loading and Initial Review</a>"
   ]
  },
  {
   "cell_type": "markdown",
   "metadata": {},
   "source": [
    "#### Load Libraries"
   ]
  },
  {
   "cell_type": "code",
   "execution_count": 6,
   "metadata": {},
   "outputs": [],
   "source": [
    "import numpy as np\n",
    "import pandas as pd\n",
    "import matplotlib.pyplot as plt\n",
    "%matplotlib inline\n",
    "import seaborn as sns\n",
    "from sklearn.tree import DecisionTreeClassifier\n",
    "from sklearn.model_selection import train_test_split\n",
    "from sklearn.metrics import confusion_matrix, classification_report\n",
    "from sklearn.metrics import accuracy_score,precision_score,recall_score,f1_score\n",
    "import scipy.stats as stats\n",
    "from sklearn import metrics\n",
    "from sklearn import tree\n",
    "from sklearn.model_selection import GridSearchCV\n",
    "from sklearn.ensemble import BaggingClassifier\n",
    "from sklearn.ensemble import RandomForestClassifier\n",
    "from sklearn.linear_model import LogisticRegression\n",
    "from sklearn.ensemble import AdaBoostClassifier, GradientBoostingClassifier\n",
    "#To install xgboost library use - !pip install xgboost \n",
    "from xgboost import XGBClassifier\n",
    "import warnings\n",
    "warnings.filterwarnings('ignore')"
   ]
  },
  {
   "cell_type": "code",
   "execution_count": 7,
   "metadata": {},
   "outputs": [
    {
     "name": "stdout",
     "output_type": "stream",
     "text": [
      "Requirement already satisfied: xgboost in /opt/anaconda3/lib/python3.12/site-packages (2.1.2)\n",
      "Requirement already satisfied: numpy in /opt/anaconda3/lib/python3.12/site-packages (from xgboost) (1.26.4)\n",
      "Requirement already satisfied: scipy in /opt/anaconda3/lib/python3.12/site-packages (from xgboost) (1.13.1)\n"
     ]
    }
   ],
   "source": [
    "!pip install xgboost "
   ]
  },
  {
   "cell_type": "code",
   "execution_count": 8,
   "metadata": {},
   "outputs": [
    {
     "name": "stdout",
     "output_type": "stream",
     "text": [
      "Requirement already satisfied: xgboost in /opt/anaconda3/lib/python3.12/site-packages (2.1.2)\n",
      "Requirement already satisfied: numpy in /opt/anaconda3/lib/python3.12/site-packages (from xgboost) (1.26.4)\n",
      "Requirement already satisfied: scipy in /opt/anaconda3/lib/python3.12/site-packages (from xgboost) (1.13.1)\n"
     ]
    }
   ],
   "source": [
    "!pip install --trusted-host pypi.org --trusted-host files.pythonhosted.org xgboost"
   ]
  },
  {
   "cell_type": "code",
   "execution_count": 9,
   "metadata": {},
   "outputs": [],
   "source": [
    "from xgboost import XGBClassifier"
   ]
  },
  {
   "cell_type": "markdown",
   "metadata": {},
   "source": [
    "#### Load Customer Data File"
   ]
  },
  {
   "cell_type": "code",
   "execution_count": 11,
   "metadata": {},
   "outputs": [],
   "source": [
    "customer_data = pd.read_csv(\"Tourism.csv\")"
   ]
  },
  {
   "cell_type": "markdown",
   "metadata": {},
   "source": [
    "#### Initial Data Review"
   ]
  },
  {
   "cell_type": "code",
   "execution_count": 13,
   "metadata": {},
   "outputs": [
    {
     "name": "stdout",
     "output_type": "stream",
     "text": [
      "<class 'pandas.core.frame.DataFrame'>\n",
      "RangeIndex: 4888 entries, 0 to 4887\n",
      "Data columns (total 20 columns):\n",
      " #   Column                    Non-Null Count  Dtype  \n",
      "---  ------                    --------------  -----  \n",
      " 0   CustomerID                4888 non-null   int64  \n",
      " 1   ProdTaken                 4888 non-null   int64  \n",
      " 2   Age                       4662 non-null   float64\n",
      " 3   TypeofContact             4863 non-null   object \n",
      " 4   CityTier                  4888 non-null   int64  \n",
      " 5   DurationOfPitch           4637 non-null   float64\n",
      " 6   Occupation                4888 non-null   object \n",
      " 7   Gender                    4888 non-null   object \n",
      " 8   NumberOfPersonVisiting    4888 non-null   int64  \n",
      " 9   NumberOfFollowups         4843 non-null   float64\n",
      " 10  ProductPitched            4888 non-null   object \n",
      " 11  PreferredPropertyStar     4862 non-null   float64\n",
      " 12  MaritalStatus             4888 non-null   object \n",
      " 13  NumberOfTrips             4748 non-null   float64\n",
      " 14  Passport                  4888 non-null   int64  \n",
      " 15  PitchSatisfactionScore    4888 non-null   int64  \n",
      " 16  OwnCar                    4888 non-null   int64  \n",
      " 17  NumberOfChildrenVisiting  4822 non-null   float64\n",
      " 18  Designation               4888 non-null   object \n",
      " 19  MonthlyIncome             4655 non-null   float64\n",
      "dtypes: float64(7), int64(7), object(6)\n",
      "memory usage: 763.9+ KB\n"
     ]
    }
   ],
   "source": [
    "customer_data.info()\n",
    "\n",
    "# many columns are of the type \"object\" i.e. strings. They need to be converted to ordinal type. "
   ]
  },
  {
   "cell_type": "code",
   "execution_count": 14,
   "metadata": {},
   "outputs": [
    {
     "data": {
      "text/html": [
       "<div>\n",
       "<style scoped>\n",
       "    .dataframe tbody tr th:only-of-type {\n",
       "        vertical-align: middle;\n",
       "    }\n",
       "\n",
       "    .dataframe tbody tr th {\n",
       "        vertical-align: top;\n",
       "    }\n",
       "\n",
       "    .dataframe thead th {\n",
       "        text-align: right;\n",
       "    }\n",
       "</style>\n",
       "<table border=\"1\" class=\"dataframe\">\n",
       "  <thead>\n",
       "    <tr style=\"text-align: right;\">\n",
       "      <th></th>\n",
       "      <th>count</th>\n",
       "      <th>mean</th>\n",
       "      <th>std</th>\n",
       "      <th>min</th>\n",
       "      <th>25%</th>\n",
       "      <th>50%</th>\n",
       "      <th>75%</th>\n",
       "      <th>max</th>\n",
       "    </tr>\n",
       "  </thead>\n",
       "  <tbody>\n",
       "    <tr>\n",
       "      <th>CustomerID</th>\n",
       "      <td>4888.0</td>\n",
       "      <td>202443.500000</td>\n",
       "      <td>1411.188388</td>\n",
       "      <td>200000.0</td>\n",
       "      <td>201221.75</td>\n",
       "      <td>202443.5</td>\n",
       "      <td>203665.25</td>\n",
       "      <td>204887.0</td>\n",
       "    </tr>\n",
       "    <tr>\n",
       "      <th>ProdTaken</th>\n",
       "      <td>4888.0</td>\n",
       "      <td>0.188216</td>\n",
       "      <td>0.390925</td>\n",
       "      <td>0.0</td>\n",
       "      <td>0.00</td>\n",
       "      <td>0.0</td>\n",
       "      <td>0.00</td>\n",
       "      <td>1.0</td>\n",
       "    </tr>\n",
       "    <tr>\n",
       "      <th>Age</th>\n",
       "      <td>4662.0</td>\n",
       "      <td>37.622265</td>\n",
       "      <td>9.316387</td>\n",
       "      <td>18.0</td>\n",
       "      <td>31.00</td>\n",
       "      <td>36.0</td>\n",
       "      <td>44.00</td>\n",
       "      <td>61.0</td>\n",
       "    </tr>\n",
       "    <tr>\n",
       "      <th>CityTier</th>\n",
       "      <td>4888.0</td>\n",
       "      <td>1.654255</td>\n",
       "      <td>0.916583</td>\n",
       "      <td>1.0</td>\n",
       "      <td>1.00</td>\n",
       "      <td>1.0</td>\n",
       "      <td>3.00</td>\n",
       "      <td>3.0</td>\n",
       "    </tr>\n",
       "    <tr>\n",
       "      <th>DurationOfPitch</th>\n",
       "      <td>4637.0</td>\n",
       "      <td>15.490835</td>\n",
       "      <td>8.519643</td>\n",
       "      <td>5.0</td>\n",
       "      <td>9.00</td>\n",
       "      <td>13.0</td>\n",
       "      <td>20.00</td>\n",
       "      <td>127.0</td>\n",
       "    </tr>\n",
       "    <tr>\n",
       "      <th>NumberOfPersonVisiting</th>\n",
       "      <td>4888.0</td>\n",
       "      <td>2.905074</td>\n",
       "      <td>0.724891</td>\n",
       "      <td>1.0</td>\n",
       "      <td>2.00</td>\n",
       "      <td>3.0</td>\n",
       "      <td>3.00</td>\n",
       "      <td>5.0</td>\n",
       "    </tr>\n",
       "    <tr>\n",
       "      <th>NumberOfFollowups</th>\n",
       "      <td>4843.0</td>\n",
       "      <td>3.708445</td>\n",
       "      <td>1.002509</td>\n",
       "      <td>1.0</td>\n",
       "      <td>3.00</td>\n",
       "      <td>4.0</td>\n",
       "      <td>4.00</td>\n",
       "      <td>6.0</td>\n",
       "    </tr>\n",
       "    <tr>\n",
       "      <th>PreferredPropertyStar</th>\n",
       "      <td>4862.0</td>\n",
       "      <td>3.581037</td>\n",
       "      <td>0.798009</td>\n",
       "      <td>3.0</td>\n",
       "      <td>3.00</td>\n",
       "      <td>3.0</td>\n",
       "      <td>4.00</td>\n",
       "      <td>5.0</td>\n",
       "    </tr>\n",
       "    <tr>\n",
       "      <th>NumberOfTrips</th>\n",
       "      <td>4748.0</td>\n",
       "      <td>3.236521</td>\n",
       "      <td>1.849019</td>\n",
       "      <td>1.0</td>\n",
       "      <td>2.00</td>\n",
       "      <td>3.0</td>\n",
       "      <td>4.00</td>\n",
       "      <td>22.0</td>\n",
       "    </tr>\n",
       "    <tr>\n",
       "      <th>Passport</th>\n",
       "      <td>4888.0</td>\n",
       "      <td>0.290917</td>\n",
       "      <td>0.454232</td>\n",
       "      <td>0.0</td>\n",
       "      <td>0.00</td>\n",
       "      <td>0.0</td>\n",
       "      <td>1.00</td>\n",
       "      <td>1.0</td>\n",
       "    </tr>\n",
       "    <tr>\n",
       "      <th>PitchSatisfactionScore</th>\n",
       "      <td>4888.0</td>\n",
       "      <td>3.078151</td>\n",
       "      <td>1.365792</td>\n",
       "      <td>1.0</td>\n",
       "      <td>2.00</td>\n",
       "      <td>3.0</td>\n",
       "      <td>4.00</td>\n",
       "      <td>5.0</td>\n",
       "    </tr>\n",
       "    <tr>\n",
       "      <th>OwnCar</th>\n",
       "      <td>4888.0</td>\n",
       "      <td>0.620295</td>\n",
       "      <td>0.485363</td>\n",
       "      <td>0.0</td>\n",
       "      <td>0.00</td>\n",
       "      <td>1.0</td>\n",
       "      <td>1.00</td>\n",
       "      <td>1.0</td>\n",
       "    </tr>\n",
       "    <tr>\n",
       "      <th>NumberOfChildrenVisiting</th>\n",
       "      <td>4822.0</td>\n",
       "      <td>1.187267</td>\n",
       "      <td>0.857861</td>\n",
       "      <td>0.0</td>\n",
       "      <td>1.00</td>\n",
       "      <td>1.0</td>\n",
       "      <td>2.00</td>\n",
       "      <td>3.0</td>\n",
       "    </tr>\n",
       "    <tr>\n",
       "      <th>MonthlyIncome</th>\n",
       "      <td>4655.0</td>\n",
       "      <td>23619.853491</td>\n",
       "      <td>5380.698361</td>\n",
       "      <td>1000.0</td>\n",
       "      <td>20346.00</td>\n",
       "      <td>22347.0</td>\n",
       "      <td>25571.00</td>\n",
       "      <td>98678.0</td>\n",
       "    </tr>\n",
       "  </tbody>\n",
       "</table>\n",
       "</div>"
      ],
      "text/plain": [
       "                           count           mean          std       min  \\\n",
       "CustomerID                4888.0  202443.500000  1411.188388  200000.0   \n",
       "ProdTaken                 4888.0       0.188216     0.390925       0.0   \n",
       "Age                       4662.0      37.622265     9.316387      18.0   \n",
       "CityTier                  4888.0       1.654255     0.916583       1.0   \n",
       "DurationOfPitch           4637.0      15.490835     8.519643       5.0   \n",
       "NumberOfPersonVisiting    4888.0       2.905074     0.724891       1.0   \n",
       "NumberOfFollowups         4843.0       3.708445     1.002509       1.0   \n",
       "PreferredPropertyStar     4862.0       3.581037     0.798009       3.0   \n",
       "NumberOfTrips             4748.0       3.236521     1.849019       1.0   \n",
       "Passport                  4888.0       0.290917     0.454232       0.0   \n",
       "PitchSatisfactionScore    4888.0       3.078151     1.365792       1.0   \n",
       "OwnCar                    4888.0       0.620295     0.485363       0.0   \n",
       "NumberOfChildrenVisiting  4822.0       1.187267     0.857861       0.0   \n",
       "MonthlyIncome             4655.0   23619.853491  5380.698361    1000.0   \n",
       "\n",
       "                                25%       50%        75%       max  \n",
       "CustomerID                201221.75  202443.5  203665.25  204887.0  \n",
       "ProdTaken                      0.00       0.0       0.00       1.0  \n",
       "Age                           31.00      36.0      44.00      61.0  \n",
       "CityTier                       1.00       1.0       3.00       3.0  \n",
       "DurationOfPitch                9.00      13.0      20.00     127.0  \n",
       "NumberOfPersonVisiting         2.00       3.0       3.00       5.0  \n",
       "NumberOfFollowups              3.00       4.0       4.00       6.0  \n",
       "PreferredPropertyStar          3.00       3.0       4.00       5.0  \n",
       "NumberOfTrips                  2.00       3.0       4.00      22.0  \n",
       "Passport                       0.00       0.0       1.00       1.0  \n",
       "PitchSatisfactionScore         2.00       3.0       4.00       5.0  \n",
       "OwnCar                         0.00       1.0       1.00       1.0  \n",
       "NumberOfChildrenVisiting       1.00       1.0       2.00       3.0  \n",
       "MonthlyIncome              20346.00   22347.0   25571.00   98678.0  "
      ]
     },
     "execution_count": 14,
     "metadata": {},
     "output_type": "execute_result"
    }
   ],
   "source": [
    "customer_data.describe().T"
   ]
  },
  {
   "cell_type": "code",
   "execution_count": 15,
   "metadata": {},
   "outputs": [
    {
     "data": {
      "text/plain": [
       "DurationOfPitch             251\n",
       "MonthlyIncome               233\n",
       "Age                         226\n",
       "NumberOfTrips               140\n",
       "NumberOfChildrenVisiting     66\n",
       "NumberOfFollowups            45\n",
       "PreferredPropertyStar        26\n",
       "TypeofContact                25\n",
       "Designation                   0\n",
       "OwnCar                        0\n",
       "PitchSatisfactionScore        0\n",
       "Passport                      0\n",
       "CustomerID                    0\n",
       "MaritalStatus                 0\n",
       "ProdTaken                     0\n",
       "NumberOfPersonVisiting        0\n",
       "Gender                        0\n",
       "Occupation                    0\n",
       "CityTier                      0\n",
       "ProductPitched                0\n",
       "dtype: int64"
      ]
     },
     "execution_count": 15,
     "metadata": {},
     "output_type": "execute_result"
    }
   ],
   "source": [
    "# looking at which columns have the most missing values\n",
    "customer_data.isnull().sum().sort_values(ascending=False)"
   ]
  },
  {
   "cell_type": "code",
   "execution_count": 16,
   "metadata": {},
   "outputs": [
    {
     "data": {
      "text/plain": [
       "0"
      ]
     },
     "execution_count": 16,
     "metadata": {},
     "output_type": "execute_result"
    }
   ],
   "source": [
    "dupes = customer_data.duplicated()\n",
    "sum(dupes)"
   ]
  },
  {
   "cell_type": "markdown",
   "metadata": {},
   "source": [
    "**Observations -**\n",
    "* There are 25 or more null values in eight columns in the the dataset. The highest (duration of the salesperson pitch) is 251, which is about 5% of the total observations.\n",
    "* We will impute the missing values with median values for numerical data. \n",
    "* There are several other numerical columns with missing values that really should be categorical (e.g., PreferredPropertyStar). We will impute the median for those too before converting their data type.  \n",
    "* There is one column of categorical data with 25 missing values. Since we cannot impute a median or a numeric value, we will drop it (< 1% of obs).  \n",
    "* We will also convert the object type columns to categories (converting \"objects\" to \"category\" reduces the data space required to store the dataframe)"
   ]
  },
  {
   "cell_type": "code",
   "execution_count": 18,
   "metadata": {},
   "outputs": [],
   "source": [
    "# Replace NaN values with the median of the column\n",
    "customer_data['DurationOfPitch'].fillna(customer_data.DurationOfPitch.median(), inplace = True)  "
   ]
  },
  {
   "cell_type": "code",
   "execution_count": 19,
   "metadata": {},
   "outputs": [],
   "source": [
    "# Replace NaN values with the median of the column\n",
    "customer_data['MonthlyIncome'].fillna(customer_data.MonthlyIncome.median(), inplace = True)  "
   ]
  },
  {
   "cell_type": "code",
   "execution_count": 20,
   "metadata": {},
   "outputs": [],
   "source": [
    "# Replace NaN values with the median of the column\n",
    "customer_data['Age'].fillna(customer_data.Age.median(), inplace = True)  "
   ]
  },
  {
   "cell_type": "code",
   "execution_count": 21,
   "metadata": {},
   "outputs": [],
   "source": [
    "# Replace NaN values with the median of the column\n",
    "customer_data['NumberOfTrips'].fillna(customer_data.NumberOfTrips.median(), inplace = True)  "
   ]
  },
  {
   "cell_type": "code",
   "execution_count": 22,
   "metadata": {},
   "outputs": [],
   "source": [
    "# Replace NaN values with the median of the column\n",
    "customer_data['NumberOfChildrenVisiting'].fillna(customer_data.NumberOfChildrenVisiting.median(), inplace = True)  "
   ]
  },
  {
   "cell_type": "code",
   "execution_count": 23,
   "metadata": {},
   "outputs": [],
   "source": [
    "# Replace NaN values with the median of the column\n",
    "customer_data['NumberOfFollowups'].fillna(customer_data.NumberOfFollowups.median(), inplace = True)  "
   ]
  },
  {
   "cell_type": "code",
   "execution_count": 24,
   "metadata": {},
   "outputs": [],
   "source": [
    "# Replace NaN values with the median of the column\n",
    "customer_data['PreferredPropertyStar'].fillna(customer_data.PreferredPropertyStar.median(), inplace = True)  "
   ]
  },
  {
   "cell_type": "code",
   "execution_count": 25,
   "metadata": {},
   "outputs": [],
   "source": [
    "customer_data['TypeofContact'].dropna(axis=0, how='any', inplace=True)"
   ]
  },
  {
   "cell_type": "code",
   "execution_count": 26,
   "metadata": {},
   "outputs": [
    {
     "name": "stdout",
     "output_type": "stream",
     "text": [
      "<class 'pandas.core.frame.DataFrame'>\n",
      "RangeIndex: 4888 entries, 0 to 4887\n",
      "Data columns (total 20 columns):\n",
      " #   Column                    Non-Null Count  Dtype  \n",
      "---  ------                    --------------  -----  \n",
      " 0   CustomerID                4888 non-null   int64  \n",
      " 1   ProdTaken                 4888 non-null   int64  \n",
      " 2   Age                       4888 non-null   float64\n",
      " 3   TypeofContact             4863 non-null   object \n",
      " 4   CityTier                  4888 non-null   int64  \n",
      " 5   DurationOfPitch           4888 non-null   float64\n",
      " 6   Occupation                4888 non-null   object \n",
      " 7   Gender                    4888 non-null   object \n",
      " 8   NumberOfPersonVisiting    4888 non-null   int64  \n",
      " 9   NumberOfFollowups         4888 non-null   float64\n",
      " 10  ProductPitched            4888 non-null   object \n",
      " 11  PreferredPropertyStar     4888 non-null   float64\n",
      " 12  MaritalStatus             4888 non-null   object \n",
      " 13  NumberOfTrips             4888 non-null   float64\n",
      " 14  Passport                  4888 non-null   int64  \n",
      " 15  PitchSatisfactionScore    4888 non-null   int64  \n",
      " 16  OwnCar                    4888 non-null   int64  \n",
      " 17  NumberOfChildrenVisiting  4888 non-null   float64\n",
      " 18  Designation               4888 non-null   object \n",
      " 19  MonthlyIncome             4888 non-null   float64\n",
      "dtypes: float64(7), int64(7), object(6)\n",
      "memory usage: 763.9+ KB\n"
     ]
    }
   ],
   "source": [
    "customer_data.info() # did the TypeofContact NAs get dropped? "
   ]
  },
  {
   "cell_type": "code",
   "execution_count": 27,
   "metadata": {},
   "outputs": [
    {
     "data": {
      "text/plain": [
       "Index(['TypeofContact', 'Occupation', 'Gender', 'ProductPitched',\n",
       "       'MaritalStatus', 'Designation'],\n",
       "      dtype='object')"
      ]
     },
     "execution_count": 27,
     "metadata": {},
     "output_type": "execute_result"
    }
   ],
   "source": [
    "cols = customer_data.select_dtypes(['object'])\n",
    "cols.columns"
   ]
  },
  {
   "cell_type": "code",
   "execution_count": 28,
   "metadata": {},
   "outputs": [],
   "source": [
    "for i in cols.columns:\n",
    "    customer_data[i] = customer_data[i].astype('category')"
   ]
  },
  {
   "cell_type": "code",
   "execution_count": 29,
   "metadata": {},
   "outputs": [
    {
     "name": "stdout",
     "output_type": "stream",
     "text": [
      "<class 'pandas.core.frame.DataFrame'>\n",
      "RangeIndex: 4888 entries, 0 to 4887\n",
      "Data columns (total 20 columns):\n",
      " #   Column                    Non-Null Count  Dtype   \n",
      "---  ------                    --------------  -----   \n",
      " 0   CustomerID                4888 non-null   int64   \n",
      " 1   ProdTaken                 4888 non-null   int64   \n",
      " 2   Age                       4888 non-null   float64 \n",
      " 3   TypeofContact             4863 non-null   category\n",
      " 4   CityTier                  4888 non-null   int64   \n",
      " 5   DurationOfPitch           4888 non-null   float64 \n",
      " 6   Occupation                4888 non-null   category\n",
      " 7   Gender                    4888 non-null   category\n",
      " 8   NumberOfPersonVisiting    4888 non-null   int64   \n",
      " 9   NumberOfFollowups         4888 non-null   float64 \n",
      " 10  ProductPitched            4888 non-null   category\n",
      " 11  PreferredPropertyStar     4888 non-null   float64 \n",
      " 12  MaritalStatus             4888 non-null   category\n",
      " 13  NumberOfTrips             4888 non-null   float64 \n",
      " 14  Passport                  4888 non-null   int64   \n",
      " 15  PitchSatisfactionScore    4888 non-null   int64   \n",
      " 16  OwnCar                    4888 non-null   int64   \n",
      " 17  NumberOfChildrenVisiting  4888 non-null   float64 \n",
      " 18  Designation               4888 non-null   category\n",
      " 19  MonthlyIncome             4888 non-null   float64 \n",
      "dtypes: category(6), float64(7), int64(7)\n",
      "memory usage: 564.5 KB\n"
     ]
    }
   ],
   "source": [
    "customer_data.info()"
   ]
  },
  {
   "cell_type": "code",
   "execution_count": 30,
   "metadata": {},
   "outputs": [],
   "source": [
    "customer_data[\"CityTier\"] = customer_data[\"CityTier\"].astype(\"category\")\n",
    "customer_data[\"NumberOfPersonVisiting\"] = customer_data[\"NumberOfPersonVisiting\"].astype(\"category\")\n",
    "customer_data[\"NumberOfFollowups\"] = customer_data[\"NumberOfFollowups\"].astype(\"category\")\n",
    "customer_data[\"PreferredPropertyStar\"] = customer_data[\"PreferredPropertyStar\"].astype(\"category\")\n",
    "customer_data[\"Passport\"] = customer_data[\"Passport\"].astype(\"category\")\n",
    "customer_data[\"PitchSatisfactionScore\"] = customer_data[\"PitchSatisfactionScore\"].astype(\"category\")\n",
    "customer_data[\"OwnCar\"] = customer_data[\"OwnCar\"].astype(\"category\")\n",
    "customer_data[\"NumberOfChildrenVisiting\"] = customer_data[\"NumberOfChildrenVisiting\"].astype(\"category\")\n",
    "\n",
    "customer_data[\"ProdTaken\"] = customer_data[\"ProdTaken\"].astype(\"category\")\n"
   ]
  },
  {
   "cell_type": "code",
   "execution_count": 31,
   "metadata": {},
   "outputs": [
    {
     "data": {
      "text/html": [
       "<div>\n",
       "<style scoped>\n",
       "    .dataframe tbody tr th:only-of-type {\n",
       "        vertical-align: middle;\n",
       "    }\n",
       "\n",
       "    .dataframe tbody tr th {\n",
       "        vertical-align: top;\n",
       "    }\n",
       "\n",
       "    .dataframe thead th {\n",
       "        text-align: right;\n",
       "    }\n",
       "</style>\n",
       "<table border=\"1\" class=\"dataframe\">\n",
       "  <thead>\n",
       "    <tr style=\"text-align: right;\">\n",
       "      <th></th>\n",
       "      <th>count</th>\n",
       "      <th>mean</th>\n",
       "      <th>std</th>\n",
       "      <th>min</th>\n",
       "      <th>25%</th>\n",
       "      <th>50%</th>\n",
       "      <th>75%</th>\n",
       "      <th>max</th>\n",
       "    </tr>\n",
       "  </thead>\n",
       "  <tbody>\n",
       "    <tr>\n",
       "      <th>CustomerID</th>\n",
       "      <td>4888.0</td>\n",
       "      <td>202443.500000</td>\n",
       "      <td>1411.188388</td>\n",
       "      <td>200000.0</td>\n",
       "      <td>201221.75</td>\n",
       "      <td>202443.5</td>\n",
       "      <td>203665.25</td>\n",
       "      <td>204887.0</td>\n",
       "    </tr>\n",
       "    <tr>\n",
       "      <th>Age</th>\n",
       "      <td>4888.0</td>\n",
       "      <td>37.547259</td>\n",
       "      <td>9.104795</td>\n",
       "      <td>18.0</td>\n",
       "      <td>31.00</td>\n",
       "      <td>36.0</td>\n",
       "      <td>43.00</td>\n",
       "      <td>61.0</td>\n",
       "    </tr>\n",
       "    <tr>\n",
       "      <th>DurationOfPitch</th>\n",
       "      <td>4888.0</td>\n",
       "      <td>15.362930</td>\n",
       "      <td>8.316166</td>\n",
       "      <td>5.0</td>\n",
       "      <td>9.00</td>\n",
       "      <td>13.0</td>\n",
       "      <td>19.00</td>\n",
       "      <td>127.0</td>\n",
       "    </tr>\n",
       "    <tr>\n",
       "      <th>NumberOfTrips</th>\n",
       "      <td>4888.0</td>\n",
       "      <td>3.229746</td>\n",
       "      <td>1.822769</td>\n",
       "      <td>1.0</td>\n",
       "      <td>2.00</td>\n",
       "      <td>3.0</td>\n",
       "      <td>4.00</td>\n",
       "      <td>22.0</td>\n",
       "    </tr>\n",
       "    <tr>\n",
       "      <th>MonthlyIncome</th>\n",
       "      <td>4888.0</td>\n",
       "      <td>23559.179419</td>\n",
       "      <td>5257.862921</td>\n",
       "      <td>1000.0</td>\n",
       "      <td>20485.00</td>\n",
       "      <td>22347.0</td>\n",
       "      <td>25424.75</td>\n",
       "      <td>98678.0</td>\n",
       "    </tr>\n",
       "  </tbody>\n",
       "</table>\n",
       "</div>"
      ],
      "text/plain": [
       "                  count           mean          std       min        25%  \\\n",
       "CustomerID       4888.0  202443.500000  1411.188388  200000.0  201221.75   \n",
       "Age              4888.0      37.547259     9.104795      18.0      31.00   \n",
       "DurationOfPitch  4888.0      15.362930     8.316166       5.0       9.00   \n",
       "NumberOfTrips    4888.0       3.229746     1.822769       1.0       2.00   \n",
       "MonthlyIncome    4888.0   23559.179419  5257.862921    1000.0   20485.00   \n",
       "\n",
       "                      50%        75%       max  \n",
       "CustomerID       202443.5  203665.25  204887.0  \n",
       "Age                  36.0      43.00      61.0  \n",
       "DurationOfPitch      13.0      19.00     127.0  \n",
       "NumberOfTrips         3.0       4.00      22.0  \n",
       "MonthlyIncome     22347.0   25424.75   98678.0  "
      ]
     },
     "execution_count": 31,
     "metadata": {},
     "output_type": "execute_result"
    }
   ],
   "source": [
    "customer_data.describe().T"
   ]
  },
  {
   "cell_type": "code",
   "execution_count": 32,
   "metadata": {},
   "outputs": [
    {
     "data": {
      "text/html": [
       "<div>\n",
       "<style scoped>\n",
       "    .dataframe tbody tr th:only-of-type {\n",
       "        vertical-align: middle;\n",
       "    }\n",
       "\n",
       "    .dataframe tbody tr th {\n",
       "        vertical-align: top;\n",
       "    }\n",
       "\n",
       "    .dataframe thead th {\n",
       "        text-align: right;\n",
       "    }\n",
       "</style>\n",
       "<table border=\"1\" class=\"dataframe\">\n",
       "  <thead>\n",
       "    <tr style=\"text-align: right;\">\n",
       "      <th></th>\n",
       "      <th>count</th>\n",
       "      <th>unique</th>\n",
       "      <th>top</th>\n",
       "      <th>freq</th>\n",
       "    </tr>\n",
       "  </thead>\n",
       "  <tbody>\n",
       "    <tr>\n",
       "      <th>ProdTaken</th>\n",
       "      <td>4888</td>\n",
       "      <td>2</td>\n",
       "      <td>0</td>\n",
       "      <td>3968</td>\n",
       "    </tr>\n",
       "    <tr>\n",
       "      <th>TypeofContact</th>\n",
       "      <td>4863</td>\n",
       "      <td>2</td>\n",
       "      <td>Self Enquiry</td>\n",
       "      <td>3444</td>\n",
       "    </tr>\n",
       "    <tr>\n",
       "      <th>CityTier</th>\n",
       "      <td>4888</td>\n",
       "      <td>3</td>\n",
       "      <td>1</td>\n",
       "      <td>3190</td>\n",
       "    </tr>\n",
       "    <tr>\n",
       "      <th>Occupation</th>\n",
       "      <td>4888</td>\n",
       "      <td>4</td>\n",
       "      <td>Salaried</td>\n",
       "      <td>2368</td>\n",
       "    </tr>\n",
       "    <tr>\n",
       "      <th>Gender</th>\n",
       "      <td>4888</td>\n",
       "      <td>3</td>\n",
       "      <td>Male</td>\n",
       "      <td>2916</td>\n",
       "    </tr>\n",
       "    <tr>\n",
       "      <th>NumberOfPersonVisiting</th>\n",
       "      <td>4888</td>\n",
       "      <td>5</td>\n",
       "      <td>3</td>\n",
       "      <td>2402</td>\n",
       "    </tr>\n",
       "    <tr>\n",
       "      <th>NumberOfFollowups</th>\n",
       "      <td>4888.0</td>\n",
       "      <td>6.0</td>\n",
       "      <td>4.0</td>\n",
       "      <td>2113.0</td>\n",
       "    </tr>\n",
       "    <tr>\n",
       "      <th>ProductPitched</th>\n",
       "      <td>4888</td>\n",
       "      <td>5</td>\n",
       "      <td>Basic</td>\n",
       "      <td>1842</td>\n",
       "    </tr>\n",
       "    <tr>\n",
       "      <th>PreferredPropertyStar</th>\n",
       "      <td>4888.0</td>\n",
       "      <td>3.0</td>\n",
       "      <td>3.0</td>\n",
       "      <td>3019.0</td>\n",
       "    </tr>\n",
       "    <tr>\n",
       "      <th>MaritalStatus</th>\n",
       "      <td>4888</td>\n",
       "      <td>4</td>\n",
       "      <td>Married</td>\n",
       "      <td>2340</td>\n",
       "    </tr>\n",
       "    <tr>\n",
       "      <th>Passport</th>\n",
       "      <td>4888</td>\n",
       "      <td>2</td>\n",
       "      <td>0</td>\n",
       "      <td>3466</td>\n",
       "    </tr>\n",
       "    <tr>\n",
       "      <th>PitchSatisfactionScore</th>\n",
       "      <td>4888</td>\n",
       "      <td>5</td>\n",
       "      <td>3</td>\n",
       "      <td>1478</td>\n",
       "    </tr>\n",
       "    <tr>\n",
       "      <th>OwnCar</th>\n",
       "      <td>4888</td>\n",
       "      <td>2</td>\n",
       "      <td>1</td>\n",
       "      <td>3032</td>\n",
       "    </tr>\n",
       "    <tr>\n",
       "      <th>NumberOfChildrenVisiting</th>\n",
       "      <td>4888.0</td>\n",
       "      <td>4.0</td>\n",
       "      <td>1.0</td>\n",
       "      <td>2146.0</td>\n",
       "    </tr>\n",
       "    <tr>\n",
       "      <th>Designation</th>\n",
       "      <td>4888</td>\n",
       "      <td>5</td>\n",
       "      <td>Executive</td>\n",
       "      <td>1842</td>\n",
       "    </tr>\n",
       "  </tbody>\n",
       "</table>\n",
       "</div>"
      ],
      "text/plain": [
       "                           count unique           top    freq\n",
       "ProdTaken                   4888      2             0    3968\n",
       "TypeofContact               4863      2  Self Enquiry    3444\n",
       "CityTier                    4888      3             1    3190\n",
       "Occupation                  4888      4      Salaried    2368\n",
       "Gender                      4888      3          Male    2916\n",
       "NumberOfPersonVisiting      4888      5             3    2402\n",
       "NumberOfFollowups         4888.0    6.0           4.0  2113.0\n",
       "ProductPitched              4888      5         Basic    1842\n",
       "PreferredPropertyStar     4888.0    3.0           3.0  3019.0\n",
       "MaritalStatus               4888      4       Married    2340\n",
       "Passport                    4888      2             0    3466\n",
       "PitchSatisfactionScore      4888      5             3    1478\n",
       "OwnCar                      4888      2             1    3032\n",
       "NumberOfChildrenVisiting  4888.0    4.0           1.0  2146.0\n",
       "Designation                 4888      5     Executive    1842"
      ]
     },
     "execution_count": 32,
     "metadata": {},
     "output_type": "execute_result"
    }
   ],
   "source": [
    "customer_data.describe(include=['category']).T"
   ]
  },
  {
   "cell_type": "markdown",
   "metadata": {},
   "source": [
    "#### Drop the columns that won't add value to our modeling"
   ]
  },
  {
   "cell_type": "code",
   "execution_count": 34,
   "metadata": {},
   "outputs": [],
   "source": [
    "customer_data.drop(['CustomerID'],axis=1,inplace=True)"
   ]
  },
  {
   "cell_type": "markdown",
   "metadata": {},
   "source": [
    "#### Let's look at the unique values of all the categories"
   ]
  },
  {
   "cell_type": "code",
   "execution_count": 36,
   "metadata": {},
   "outputs": [],
   "source": [
    "cols_cat= customer_data.select_dtypes(['category'])"
   ]
  },
  {
   "cell_type": "code",
   "execution_count": 37,
   "metadata": {},
   "outputs": [
    {
     "name": "stdout",
     "output_type": "stream",
     "text": [
      "Unique values in ProdTaken are :\n",
      "ProdTaken\n",
      "0    3968\n",
      "1     920\n",
      "Name: count, dtype: int64\n",
      "**************************************************\n",
      "Unique values in TypeofContact are :\n",
      "TypeofContact\n",
      "Self Enquiry       3444\n",
      "Company Invited    1419\n",
      "Name: count, dtype: int64\n",
      "**************************************************\n",
      "Unique values in CityTier are :\n",
      "CityTier\n",
      "1    3190\n",
      "3    1500\n",
      "2     198\n",
      "Name: count, dtype: int64\n",
      "**************************************************\n",
      "Unique values in Occupation are :\n",
      "Occupation\n",
      "Salaried          2368\n",
      "Small Business    2084\n",
      "Large Business     434\n",
      "Free Lancer          2\n",
      "Name: count, dtype: int64\n",
      "**************************************************\n",
      "Unique values in Gender are :\n",
      "Gender\n",
      "Male       2916\n",
      "Female     1817\n",
      "Fe Male     155\n",
      "Name: count, dtype: int64\n",
      "**************************************************\n",
      "Unique values in NumberOfPersonVisiting are :\n",
      "NumberOfPersonVisiting\n",
      "3    2402\n",
      "2    1418\n",
      "4    1026\n",
      "1      39\n",
      "5       3\n",
      "Name: count, dtype: int64\n",
      "**************************************************\n",
      "Unique values in NumberOfFollowups are :\n",
      "NumberOfFollowups\n",
      "4.0    2113\n",
      "3.0    1466\n",
      "5.0     768\n",
      "2.0     229\n",
      "1.0     176\n",
      "6.0     136\n",
      "Name: count, dtype: int64\n",
      "**************************************************\n",
      "Unique values in ProductPitched are :\n",
      "ProductPitched\n",
      "Basic           1842\n",
      "Deluxe          1732\n",
      "Standard         742\n",
      "Super Deluxe     342\n",
      "King             230\n",
      "Name: count, dtype: int64\n",
      "**************************************************\n",
      "Unique values in PreferredPropertyStar are :\n",
      "PreferredPropertyStar\n",
      "3.0    3019\n",
      "5.0     956\n",
      "4.0     913\n",
      "Name: count, dtype: int64\n",
      "**************************************************\n",
      "Unique values in MaritalStatus are :\n",
      "MaritalStatus\n",
      "Married      2340\n",
      "Divorced      950\n",
      "Single        916\n",
      "Unmarried     682\n",
      "Name: count, dtype: int64\n",
      "**************************************************\n",
      "Unique values in Passport are :\n",
      "Passport\n",
      "0    3466\n",
      "1    1422\n",
      "Name: count, dtype: int64\n",
      "**************************************************\n",
      "Unique values in PitchSatisfactionScore are :\n",
      "PitchSatisfactionScore\n",
      "3    1478\n",
      "5     970\n",
      "1     942\n",
      "4     912\n",
      "2     586\n",
      "Name: count, dtype: int64\n",
      "**************************************************\n",
      "Unique values in OwnCar are :\n",
      "OwnCar\n",
      "1    3032\n",
      "0    1856\n",
      "Name: count, dtype: int64\n",
      "**************************************************\n",
      "Unique values in NumberOfChildrenVisiting are :\n",
      "NumberOfChildrenVisiting\n",
      "1.0    2146\n",
      "2.0    1335\n",
      "0.0    1082\n",
      "3.0     325\n",
      "Name: count, dtype: int64\n",
      "**************************************************\n",
      "Unique values in Designation are :\n",
      "Designation\n",
      "Executive         1842\n",
      "Manager           1732\n",
      "Senior Manager     742\n",
      "AVP                342\n",
      "VP                 230\n",
      "Name: count, dtype: int64\n",
      "**************************************************\n"
     ]
    }
   ],
   "source": [
    "for i in cols_cat.columns:\n",
    "    print('Unique values in',i, 'are :')\n",
    "    print(cols_cat[i].value_counts())\n",
    "    print('*'*50)"
   ]
  },
  {
   "cell_type": "markdown",
   "metadata": {},
   "source": [
    "There are 155 people whose gender is \"Fe male\" instead of \"Female.\" We will correct this. "
   ]
  },
  {
   "cell_type": "code",
   "execution_count": 39,
   "metadata": {},
   "outputs": [],
   "source": [
    "# correct \"Fe male\" errors\n",
    "customer_data[\"Gender\"].replace({\"Fe Male\": \"Female\"}, inplace=True)"
   ]
  },
  {
   "cell_type": "code",
   "execution_count": 40,
   "metadata": {},
   "outputs": [
    {
     "data": {
      "text/html": [
       "<div>\n",
       "<style scoped>\n",
       "    .dataframe tbody tr th:only-of-type {\n",
       "        vertical-align: middle;\n",
       "    }\n",
       "\n",
       "    .dataframe tbody tr th {\n",
       "        vertical-align: top;\n",
       "    }\n",
       "\n",
       "    .dataframe thead th {\n",
       "        text-align: right;\n",
       "    }\n",
       "</style>\n",
       "<table border=\"1\" class=\"dataframe\">\n",
       "  <thead>\n",
       "    <tr style=\"text-align: right;\">\n",
       "      <th></th>\n",
       "      <th>Gender</th>\n",
       "    </tr>\n",
       "    <tr>\n",
       "      <th>Gender</th>\n",
       "      <th></th>\n",
       "    </tr>\n",
       "  </thead>\n",
       "  <tbody>\n",
       "    <tr>\n",
       "      <th>Female</th>\n",
       "      <td>1972</td>\n",
       "    </tr>\n",
       "    <tr>\n",
       "      <th>Male</th>\n",
       "      <td>2916</td>\n",
       "    </tr>\n",
       "  </tbody>\n",
       "</table>\n",
       "</div>"
      ],
      "text/plain": [
       "        Gender\n",
       "Gender        \n",
       "Female    1972\n",
       "Male      2916"
      ]
     },
     "execution_count": 40,
     "metadata": {},
     "output_type": "execute_result"
    }
   ],
   "source": [
    "customer_data.groupby(['Gender'])[['Gender']].count()"
   ]
  },
  {
   "cell_type": "code",
   "execution_count": 41,
   "metadata": {},
   "outputs": [
    {
     "name": "stdout",
     "output_type": "stream",
     "text": [
      "<class 'pandas.core.frame.DataFrame'>\n",
      "RangeIndex: 4888 entries, 0 to 4887\n",
      "Data columns (total 19 columns):\n",
      " #   Column                    Non-Null Count  Dtype   \n",
      "---  ------                    --------------  -----   \n",
      " 0   ProdTaken                 4888 non-null   category\n",
      " 1   Age                       4888 non-null   float64 \n",
      " 2   TypeofContact             4863 non-null   category\n",
      " 3   CityTier                  4888 non-null   category\n",
      " 4   DurationOfPitch           4888 non-null   float64 \n",
      " 5   Occupation                4888 non-null   category\n",
      " 6   Gender                    4888 non-null   category\n",
      " 7   NumberOfPersonVisiting    4888 non-null   category\n",
      " 8   NumberOfFollowups         4888 non-null   category\n",
      " 9   ProductPitched            4888 non-null   category\n",
      " 10  PreferredPropertyStar     4888 non-null   category\n",
      " 11  MaritalStatus             4888 non-null   category\n",
      " 12  NumberOfTrips             4888 non-null   float64 \n",
      " 13  Passport                  4888 non-null   category\n",
      " 14  PitchSatisfactionScore    4888 non-null   category\n",
      " 15  OwnCar                    4888 non-null   category\n",
      " 16  NumberOfChildrenVisiting  4888 non-null   category\n",
      " 17  Designation               4888 non-null   category\n",
      " 18  MonthlyIncome             4888 non-null   float64 \n",
      "dtypes: category(15), float64(4)\n",
      "memory usage: 227.0 KB\n"
     ]
    }
   ],
   "source": [
    "customer_data.info()"
   ]
  },
  {
   "cell_type": "markdown",
   "metadata": {},
   "source": [
    "## <a id = \"link2\"> Exploratory Data Analysis (EDA): Univariate Analysis</a>"
   ]
  },
  {
   "cell_type": "code",
   "execution_count": 43,
   "metadata": {},
   "outputs": [],
   "source": [
    "# While doing uni-variate analysis of NUMERICAL VARIABLES we want to study their central tendency and dispersion.\n",
    "# This function will help us create boxplot and histogram for any input NUMERICAL VARIABLE. \n",
    "# This function takes the NUMERICAL COLUMN as the input and returns the boxplots and histograms for the variable.\n",
    "\n",
    "def histogram_boxplot(feature, figsize=(15,10), bins = None):\n",
    "    \"\"\" Boxplot and histogram combined\n",
    "    feature: 1-d feature array\n",
    "    figsize: size of fig (default (9,8))\n",
    "    bins: number of bins (default None / auto)\n",
    "    \"\"\"\n",
    "    f2, (ax_box2, ax_hist2) = plt.subplots(nrows = 2, # Number of rows of the subplot grid= 2\n",
    "                                           sharex = True, # x-axis will be shared among all subplots\n",
    "                                           gridspec_kw = {\"height_ratios\": (.25, .75)}, \n",
    "                                           figsize = figsize \n",
    "                                           ) # creating the 2 subplots\n",
    "    sns.boxplot(feature, ax=ax_box2, showmeans=True, color='violet') # boxplot will be created and a star will indicate the mean value of the column\n",
    "    sns.distplot(feature, kde=F, ax=ax_hist2, bins=bins,palette=\"winter\") if bins else sns.distplot(feature, kde=False, ax=ax_hist2) # For histogram\n",
    "    ax_hist2.axvline(np.mean(feature), color='green', linestyle='--') # Add mean to the histogram\n",
    "    ax_hist2.axvline(np.median(feature), color='black', linestyle='-') # Add median to the histogram"
   ]
  },
  {
   "cell_type": "code",
   "execution_count": 44,
   "metadata": {},
   "outputs": [],
   "source": [
    "# Function to create barplots that indicate percentage for each CATEGORY.\n",
    "\n",
    "def perc_on_bar(plot, feature):\n",
    "    '''\n",
    "    plot\n",
    "    feature: categorical feature\n",
    "    the function won't work if a column is passed in hue parameter\n",
    "    '''\n",
    "\n",
    "    total = len(feature) # length of the column\n",
    "    for p in ax.patches:\n",
    "        percentage = '{:.1f}%'.format(100 * p.get_height()/total) # percentage of each class of the category\n",
    "        x = p.get_x() + p.get_width() / 2 - 0.05 # width of the plot\n",
    "        y = p.get_y() + p.get_height()           # hieght of the plot\n",
    "        ax.annotate(percentage, (x, y), size = 12) # annotate the percantage \n",
    "        \n",
    "    plt.show() # show the plot"
   ]
  },
  {
   "cell_type": "code",
   "execution_count": 45,
   "metadata": {},
   "outputs": [],
   "source": [
    "### Function to plot stacked bar charts for categorical columns\n",
    "\n",
    "def stacked_plot(x):\n",
    "    sns.set(palette='nipy_spectral')\n",
    "    tab1 = pd.crosstab(x,customer_data['ProdTaken'],margins=True)\n",
    "    print(tab1)\n",
    "    print('-'*120)\n",
    "    tab = pd.crosstab(x,customer_data['ProdTaken'],normalize='index')\n",
    "    tab.plot(kind='bar',stacked=True,figsize=(10,5))\n",
    "    plt.legend(loc='lower left', frameon=False)\n",
    "    plt.legend(loc=\"upper left\", bbox_to_anchor=(1,1))\n",
    "    plt.show()"
   ]
  },
  {
   "cell_type": "markdown",
   "metadata": {},
   "source": [
    "### Numeric / Quantitative Variables"
   ]
  },
  {
   "cell_type": "code",
   "execution_count": 47,
   "metadata": {},
   "outputs": [
    {
     "data": {
      "image/png": "[encoded data removed]",
      "text/plain": [
       "<Figure size 1500x1000 with 2 Axes>"
      ]
     },
     "metadata": {},
     "output_type": "display_data"
    }
   ],
   "source": [
    "histogram_boxplot(customer_data['Age'])"
   ]
  },
  {
   "cell_type": "code",
   "execution_count": 48,
   "metadata": {},
   "outputs": [
    {
     "data": {
      "image/png": "[encoded data removed]",
      "text/plain": [
       "<Figure size 1500x500 with 1 Axes>"
      ]
     },
     "metadata": {},
     "output_type": "display_data"
    }
   ],
   "source": [
    "plt.figure(figsize=(15,5))\n",
    "ax = sns.countplot(customer_data[\"Age\"],palette='winter')\n",
    "perc_on_bar(ax,customer_data[\"Age\"])"
   ]
  },
  {
   "cell_type": "code",
   "execution_count": 49,
   "metadata": {},
   "outputs": [
    {
     "data": {
      "image/png": "[encoded data removed]",
      "text/plain": [
       "<Figure size 1500x1000 with 2 Axes>"
      ]
     },
     "metadata": {},
     "output_type": "display_data"
    }
   ],
   "source": [
    "histogram_boxplot(customer_data['DurationOfPitch'])"
   ]
  },
  {
   "cell_type": "code",
   "execution_count": 50,
   "metadata": {},
   "outputs": [
    {
     "data": {
      "image/png": "[encoded data removed]",
      "text/plain": [
       "<Figure size 1500x500 with 1 Axes>"
      ]
     },
     "metadata": {},
     "output_type": "display_data"
    }
   ],
   "source": [
    "plt.figure(figsize=(15,5))\n",
    "ax = sns.countplot(customer_data[\"DurationOfPitch\"],palette='winter')\n",
    "perc_on_bar(ax,customer_data[\"DurationOfPitch\"])"
   ]
  },
  {
   "cell_type": "code",
   "execution_count": 51,
   "metadata": {},
   "outputs": [
    {
     "data": {
      "image/png": "[encoded data removed]",
      "text/plain": [
       "<Figure size 1500x1000 with 2 Axes>"
      ]
     },
     "metadata": {},
     "output_type": "display_data"
    }
   ],
   "source": [
    "histogram_boxplot(customer_data['NumberOfTrips'])"
   ]
  },
  {
   "cell_type": "code",
   "execution_count": 52,
   "metadata": {},
   "outputs": [
    {
     "data": {
      "image/png": "[encoded data removed]",
      "text/plain": [
       "<Figure size 1500x500 with 1 Axes>"
      ]
     },
     "metadata": {},
     "output_type": "display_data"
    }
   ],
   "source": [
    "plt.figure(figsize=(15,5))\n",
    "ax = sns.countplot(customer_data[\"NumberOfTrips\"],palette='winter')\n",
    "perc_on_bar(ax,customer_data[\"NumberOfTrips\"])"
   ]
  },
  {
   "cell_type": "code",
   "execution_count": 53,
   "metadata": {},
   "outputs": [
    {
     "data": {
      "image/png": "[encoded data removed]",
      "text/plain": [
       "<Figure size 1500x1000 with 2 Axes>"
      ]
     },
     "metadata": {},
     "output_type": "display_data"
    }
   ],
   "source": [
    "histogram_boxplot(customer_data['MonthlyIncome'])"
   ]
  },
  {
   "cell_type": "code",
   "execution_count": 54,
   "metadata": {},
   "outputs": [
    {
     "data": {
      "text/html": [
       "<div>\n",
       "<style scoped>\n",
       "    .dataframe tbody tr th:only-of-type {\n",
       "        vertical-align: middle;\n",
       "    }\n",
       "\n",
       "    .dataframe tbody tr th {\n",
       "        vertical-align: top;\n",
       "    }\n",
       "\n",
       "    .dataframe thead th {\n",
       "        text-align: right;\n",
       "    }\n",
       "</style>\n",
       "<table border=\"1\" class=\"dataframe\">\n",
       "  <thead>\n",
       "    <tr style=\"text-align: right;\">\n",
       "      <th></th>\n",
       "      <th>count</th>\n",
       "      <th>mean</th>\n",
       "      <th>std</th>\n",
       "      <th>min</th>\n",
       "      <th>25%</th>\n",
       "      <th>50%</th>\n",
       "      <th>75%</th>\n",
       "      <th>max</th>\n",
       "    </tr>\n",
       "  </thead>\n",
       "  <tbody>\n",
       "    <tr>\n",
       "      <th>Age</th>\n",
       "      <td>4888.0</td>\n",
       "      <td>37.547259</td>\n",
       "      <td>9.104795</td>\n",
       "      <td>18.0</td>\n",
       "      <td>31.0</td>\n",
       "      <td>36.0</td>\n",
       "      <td>43.00</td>\n",
       "      <td>61.0</td>\n",
       "    </tr>\n",
       "    <tr>\n",
       "      <th>DurationOfPitch</th>\n",
       "      <td>4888.0</td>\n",
       "      <td>15.362930</td>\n",
       "      <td>8.316166</td>\n",
       "      <td>5.0</td>\n",
       "      <td>9.0</td>\n",
       "      <td>13.0</td>\n",
       "      <td>19.00</td>\n",
       "      <td>127.0</td>\n",
       "    </tr>\n",
       "    <tr>\n",
       "      <th>NumberOfTrips</th>\n",
       "      <td>4888.0</td>\n",
       "      <td>3.229746</td>\n",
       "      <td>1.822769</td>\n",
       "      <td>1.0</td>\n",
       "      <td>2.0</td>\n",
       "      <td>3.0</td>\n",
       "      <td>4.00</td>\n",
       "      <td>22.0</td>\n",
       "    </tr>\n",
       "    <tr>\n",
       "      <th>MonthlyIncome</th>\n",
       "      <td>4888.0</td>\n",
       "      <td>23559.179419</td>\n",
       "      <td>5257.862921</td>\n",
       "      <td>1000.0</td>\n",
       "      <td>20485.0</td>\n",
       "      <td>22347.0</td>\n",
       "      <td>25424.75</td>\n",
       "      <td>98678.0</td>\n",
       "    </tr>\n",
       "  </tbody>\n",
       "</table>\n",
       "</div>"
      ],
      "text/plain": [
       "                  count          mean          std     min      25%      50%  \\\n",
       "Age              4888.0     37.547259     9.104795    18.0     31.0     36.0   \n",
       "DurationOfPitch  4888.0     15.362930     8.316166     5.0      9.0     13.0   \n",
       "NumberOfTrips    4888.0      3.229746     1.822769     1.0      2.0      3.0   \n",
       "MonthlyIncome    4888.0  23559.179419  5257.862921  1000.0  20485.0  22347.0   \n",
       "\n",
       "                      75%      max  \n",
       "Age                 43.00     61.0  \n",
       "DurationOfPitch     19.00    127.0  \n",
       "NumberOfTrips        4.00     22.0  \n",
       "MonthlyIncome    25424.75  98678.0  "
      ]
     },
     "execution_count": 54,
     "metadata": {},
     "output_type": "execute_result"
    }
   ],
   "source": [
    "customer_data.describe().T"
   ]
  },
  {
   "cell_type": "markdown",
   "metadata": {},
   "source": [
    "#### Age (of the customer, in years)\n",
    "There are 4.7% missing values which were be imputed with the median age.\n",
    "The median age (prior to imputing) is 36 years old, which is slightly less than the average of 37.6. The youngest person in the sample is 18, and the oldest is 61. \n",
    "After imputing, the descriptive statistics were nearly identical - which is the case for other variables with missing values.\n",
    "\n",
    "#### Duration of Pitch (duration of the pitch by a salesperson to the customer, in minutes)\n",
    "There are 5.2% missing values which were be imputed with the median pitch duration. \n",
    "The median pitch (prior to imputing) duration is 13 minutes, which is slightly less than average of 15.5 minutes. The shortest pitch is only five minutes and the longest is considerably long – at 127 minutes. \n",
    "\n",
    "#### Number of Trips (the average number of trips in a year by the customer)\n",
    "There are 2.9% missing values which were be imputed with the median number of trips. \n",
    "The median number of trips per year, by customer, is 3, which is slightly less than the average of 3.2. While 75% of customer sampled take four or fewer trips, on average, there are four individuals who average 19 to 22 trips per year. All four of them are either an Executive or Manager with an average monthly income of 22,891, which equates to 274,695 per year. \n",
    "\n",
    "#### Monthly Income (gross monthly income of the customer)\n",
    "There are 4.8% missing values which were be imputed with the median monthly income. \n",
    "The median monthly income (prior to imputing) is 22,347, (268,164 annually) which is less than the average of 23,620 (283,440) – indicating that the average customer has a gross income well above national averages. There are customers who make as little as 1,000 per month (12,000 annually), but 25% or more make at least 20,346 per month (244,152 annually). \n",
    "\n",
    "There are two divorced female customers who are executives with a gross monthly income of 95,000 (1,140,000 annually) and 98,678 (1,184,136 annually). \n",
    "While those observations appear as outliers, it is entirely plausible for executives to make more than $1.1 million annually.\n"
   ]
  },
  {
   "cell_type": "markdown",
   "metadata": {},
   "source": [
    "### Categorical / Qualitative Variables"
   ]
  },
  {
   "cell_type": "code",
   "execution_count": 57,
   "metadata": {},
   "outputs": [
    {
     "data": {
      "text/html": [
       "<div>\n",
       "<style scoped>\n",
       "    .dataframe tbody tr th:only-of-type {\n",
       "        vertical-align: middle;\n",
       "    }\n",
       "\n",
       "    .dataframe tbody tr th {\n",
       "        vertical-align: top;\n",
       "    }\n",
       "\n",
       "    .dataframe thead th {\n",
       "        text-align: right;\n",
       "    }\n",
       "</style>\n",
       "<table border=\"1\" class=\"dataframe\">\n",
       "  <thead>\n",
       "    <tr style=\"text-align: right;\">\n",
       "      <th></th>\n",
       "      <th>ProdTaken</th>\n",
       "    </tr>\n",
       "    <tr>\n",
       "      <th>ProdTaken</th>\n",
       "      <th></th>\n",
       "    </tr>\n",
       "  </thead>\n",
       "  <tbody>\n",
       "    <tr>\n",
       "      <th>0</th>\n",
       "      <td>3968</td>\n",
       "    </tr>\n",
       "    <tr>\n",
       "      <th>1</th>\n",
       "      <td>920</td>\n",
       "    </tr>\n",
       "  </tbody>\n",
       "</table>\n",
       "</div>"
      ],
      "text/plain": [
       "           ProdTaken\n",
       "ProdTaken           \n",
       "0               3968\n",
       "1                920"
      ]
     },
     "execution_count": 57,
     "metadata": {},
     "output_type": "execute_result"
    }
   ],
   "source": [
    "customer_data.groupby(['ProdTaken'])[['ProdTaken']].count()"
   ]
  },
  {
   "cell_type": "code",
   "execution_count": 58,
   "metadata": {},
   "outputs": [
    {
     "name": "stdout",
     "output_type": "stream",
     "text": [
      "Number of customers who have purchased a travel package in the past: 920 (18.82%)\n",
      "Number of customers who have not purchased a travel package in the past: 3968 (81.18%)\n"
     ]
    }
   ],
   "source": [
    "n_true = len(customer_data.loc[customer_data['ProdTaken'] == 1])\n",
    "n_false = len(customer_data.loc[customer_data['ProdTaken'] == 0])\n",
    "print(\"Number of customers who have purchased a travel package in the past: {0} ({1:2.2f}%)\".format(n_true, (n_true / (n_true + n_false)) * 100 ))\n",
    "print(\"Number of customers who have not purchased a travel package in the past: {0} ({1:2.2f}%)\".format(n_false, (n_false / (n_true + n_false)) * 100))"
   ]
  },
  {
   "cell_type": "code",
   "execution_count": 59,
   "metadata": {},
   "outputs": [
    {
     "data": {
      "image/png": "[encoded data removed]",
      "text/plain": [
       "<Figure size 1500x500 with 1 Axes>"
      ]
     },
     "metadata": {},
     "output_type": "display_data"
    }
   ],
   "source": [
    "plt.figure(figsize=(15,5))\n",
    "ax = sns.countplot(customer_data[\"TypeofContact\"],palette='winter')\n",
    "perc_on_bar(ax,customer_data[\"TypeofContact\"])"
   ]
  },
  {
   "cell_type": "code",
   "execution_count": 60,
   "metadata": {},
   "outputs": [
    {
     "data": {
      "text/html": [
       "<div>\n",
       "<style scoped>\n",
       "    .dataframe tbody tr th:only-of-type {\n",
       "        vertical-align: middle;\n",
       "    }\n",
       "\n",
       "    .dataframe tbody tr th {\n",
       "        vertical-align: top;\n",
       "    }\n",
       "\n",
       "    .dataframe thead th {\n",
       "        text-align: right;\n",
       "    }\n",
       "</style>\n",
       "<table border=\"1\" class=\"dataframe\">\n",
       "  <thead>\n",
       "    <tr style=\"text-align: right;\">\n",
       "      <th></th>\n",
       "      <th>TypeofContact</th>\n",
       "    </tr>\n",
       "    <tr>\n",
       "      <th>TypeofContact</th>\n",
       "      <th></th>\n",
       "    </tr>\n",
       "  </thead>\n",
       "  <tbody>\n",
       "    <tr>\n",
       "      <th>Company Invited</th>\n",
       "      <td>1419</td>\n",
       "    </tr>\n",
       "    <tr>\n",
       "      <th>Self Enquiry</th>\n",
       "      <td>3444</td>\n",
       "    </tr>\n",
       "  </tbody>\n",
       "</table>\n",
       "</div>"
      ],
      "text/plain": [
       "                 TypeofContact\n",
       "TypeofContact                 \n",
       "Company Invited           1419\n",
       "Self Enquiry              3444"
      ]
     },
     "execution_count": 60,
     "metadata": {},
     "output_type": "execute_result"
    }
   ],
   "source": [
    "customer_data.groupby(['TypeofContact'])[['TypeofContact']].count()"
   ]
  },
  {
   "cell_type": "code",
   "execution_count": 61,
   "metadata": {},
   "outputs": [
    {
     "name": "stdout",
     "output_type": "stream",
     "text": [
      "Number of customers who were contacted by our company: 1419 (29.18%)\n",
      "Number of customers who self-inquired about a travel package: 3444 (70.82%)\n"
     ]
    }
   ],
   "source": [
    "n_true = len(customer_data.loc[customer_data['TypeofContact'] == 'Company Invited'])\n",
    "n_false = len(customer_data.loc[customer_data['TypeofContact'] == 'Self Enquiry'])\n",
    "print(\"Number of customers who were contacted by our company: {0} ({1:2.2f}%)\".format(n_true, (n_true / (n_true + n_false)) * 100 ))\n",
    "print(\"Number of customers who self-inquired about a travel package: {0} ({1:2.2f}%)\".format(n_false, (n_false / (n_true + n_false)) * 100))"
   ]
  },
  {
   "cell_type": "code",
   "execution_count": 62,
   "metadata": {},
   "outputs": [
    {
     "data": {
      "image/png": "[encoded data removed]",
      "text/plain": [
       "<Figure size 1500x500 with 1 Axes>"
      ]
     },
     "metadata": {},
     "output_type": "display_data"
    }
   ],
   "source": [
    "plt.figure(figsize=(15,5))\n",
    "ax = sns.countplot(customer_data[\"CityTier\"],palette='winter')\n",
    "perc_on_bar(ax,customer_data[\"CityTier\"])"
   ]
  },
  {
   "cell_type": "code",
   "execution_count": 63,
   "metadata": {},
   "outputs": [
    {
     "data": {
      "text/html": [
       "<div>\n",
       "<style scoped>\n",
       "    .dataframe tbody tr th:only-of-type {\n",
       "        vertical-align: middle;\n",
       "    }\n",
       "\n",
       "    .dataframe tbody tr th {\n",
       "        vertical-align: top;\n",
       "    }\n",
       "\n",
       "    .dataframe thead th {\n",
       "        text-align: right;\n",
       "    }\n",
       "</style>\n",
       "<table border=\"1\" class=\"dataframe\">\n",
       "  <thead>\n",
       "    <tr style=\"text-align: right;\">\n",
       "      <th></th>\n",
       "      <th>CityTier</th>\n",
       "    </tr>\n",
       "    <tr>\n",
       "      <th>CityTier</th>\n",
       "      <th></th>\n",
       "    </tr>\n",
       "  </thead>\n",
       "  <tbody>\n",
       "    <tr>\n",
       "      <th>1</th>\n",
       "      <td>3190</td>\n",
       "    </tr>\n",
       "    <tr>\n",
       "      <th>2</th>\n",
       "      <td>198</td>\n",
       "    </tr>\n",
       "    <tr>\n",
       "      <th>3</th>\n",
       "      <td>1500</td>\n",
       "    </tr>\n",
       "  </tbody>\n",
       "</table>\n",
       "</div>"
      ],
      "text/plain": [
       "          CityTier\n",
       "CityTier          \n",
       "1             3190\n",
       "2              198\n",
       "3             1500"
      ]
     },
     "execution_count": 63,
     "metadata": {},
     "output_type": "execute_result"
    }
   ],
   "source": [
    "customer_data.groupby(['CityTier'])[['CityTier']].count()"
   ]
  },
  {
   "cell_type": "code",
   "execution_count": 64,
   "metadata": {},
   "outputs": [
    {
     "data": {
      "image/png": "[encoded data removed]",
      "text/plain": [
       "<Figure size 1500x500 with 1 Axes>"
      ]
     },
     "metadata": {},
     "output_type": "display_data"
    }
   ],
   "source": [
    "plt.figure(figsize=(15,5))\n",
    "ax = sns.countplot(customer_data[\"Occupation\"],palette='winter')\n",
    "perc_on_bar(ax,customer_data[\"TypeofContact\"])"
   ]
  },
  {
   "cell_type": "code",
   "execution_count": 65,
   "metadata": {},
   "outputs": [
    {
     "data": {
      "text/html": [
       "<div>\n",
       "<style scoped>\n",
       "    .dataframe tbody tr th:only-of-type {\n",
       "        vertical-align: middle;\n",
       "    }\n",
       "\n",
       "    .dataframe tbody tr th {\n",
       "        vertical-align: top;\n",
       "    }\n",
       "\n",
       "    .dataframe thead th {\n",
       "        text-align: right;\n",
       "    }\n",
       "</style>\n",
       "<table border=\"1\" class=\"dataframe\">\n",
       "  <thead>\n",
       "    <tr style=\"text-align: right;\">\n",
       "      <th></th>\n",
       "      <th>Occupation</th>\n",
       "    </tr>\n",
       "    <tr>\n",
       "      <th>Occupation</th>\n",
       "      <th></th>\n",
       "    </tr>\n",
       "  </thead>\n",
       "  <tbody>\n",
       "    <tr>\n",
       "      <th>Free Lancer</th>\n",
       "      <td>2</td>\n",
       "    </tr>\n",
       "    <tr>\n",
       "      <th>Large Business</th>\n",
       "      <td>434</td>\n",
       "    </tr>\n",
       "    <tr>\n",
       "      <th>Salaried</th>\n",
       "      <td>2368</td>\n",
       "    </tr>\n",
       "    <tr>\n",
       "      <th>Small Business</th>\n",
       "      <td>2084</td>\n",
       "    </tr>\n",
       "  </tbody>\n",
       "</table>\n",
       "</div>"
      ],
      "text/plain": [
       "                Occupation\n",
       "Occupation                \n",
       "Free Lancer              2\n",
       "Large Business         434\n",
       "Salaried              2368\n",
       "Small Business        2084"
      ]
     },
     "execution_count": 65,
     "metadata": {},
     "output_type": "execute_result"
    }
   ],
   "source": [
    "customer_data.groupby(['Occupation'])[['Occupation']].count()"
   ]
  },
  {
   "cell_type": "code",
   "execution_count": 66,
   "metadata": {},
   "outputs": [
    {
     "data": {
      "text/html": [
       "<div>\n",
       "<style scoped>\n",
       "    .dataframe tbody tr th:only-of-type {\n",
       "        vertical-align: middle;\n",
       "    }\n",
       "\n",
       "    .dataframe tbody tr th {\n",
       "        vertical-align: top;\n",
       "    }\n",
       "\n",
       "    .dataframe thead th {\n",
       "        text-align: right;\n",
       "    }\n",
       "</style>\n",
       "<table border=\"1\" class=\"dataframe\">\n",
       "  <thead>\n",
       "    <tr style=\"text-align: right;\">\n",
       "      <th></th>\n",
       "      <th>Gender</th>\n",
       "    </tr>\n",
       "    <tr>\n",
       "      <th>Gender</th>\n",
       "      <th></th>\n",
       "    </tr>\n",
       "  </thead>\n",
       "  <tbody>\n",
       "    <tr>\n",
       "      <th>Female</th>\n",
       "      <td>1972</td>\n",
       "    </tr>\n",
       "    <tr>\n",
       "      <th>Male</th>\n",
       "      <td>2916</td>\n",
       "    </tr>\n",
       "  </tbody>\n",
       "</table>\n",
       "</div>"
      ],
      "text/plain": [
       "        Gender\n",
       "Gender        \n",
       "Female    1972\n",
       "Male      2916"
      ]
     },
     "execution_count": 66,
     "metadata": {},
     "output_type": "execute_result"
    }
   ],
   "source": [
    "customer_data.groupby(['Gender'])[['Gender']].count()"
   ]
  },
  {
   "cell_type": "code",
   "execution_count": 67,
   "metadata": {},
   "outputs": [
    {
     "data": {
      "image/png": "[encoded data removed]",
      "text/plain": [
       "<Figure size 1500x500 with 1 Axes>"
      ]
     },
     "metadata": {},
     "output_type": "display_data"
    }
   ],
   "source": [
    "plt.figure(figsize=(15,5))\n",
    "ax = sns.countplot(customer_data[\"NumberOfPersonVisiting\"],palette='winter')\n",
    "perc_on_bar(ax,customer_data[\"NumberOfPersonVisiting\"])"
   ]
  },
  {
   "cell_type": "code",
   "execution_count": 68,
   "metadata": {},
   "outputs": [
    {
     "data": {
      "text/html": [
       "<div>\n",
       "<style scoped>\n",
       "    .dataframe tbody tr th:only-of-type {\n",
       "        vertical-align: middle;\n",
       "    }\n",
       "\n",
       "    .dataframe tbody tr th {\n",
       "        vertical-align: top;\n",
       "    }\n",
       "\n",
       "    .dataframe thead th {\n",
       "        text-align: right;\n",
       "    }\n",
       "</style>\n",
       "<table border=\"1\" class=\"dataframe\">\n",
       "  <thead>\n",
       "    <tr style=\"text-align: right;\">\n",
       "      <th></th>\n",
       "      <th>NumberOfPersonVisiting</th>\n",
       "    </tr>\n",
       "    <tr>\n",
       "      <th>NumberOfPersonVisiting</th>\n",
       "      <th></th>\n",
       "    </tr>\n",
       "  </thead>\n",
       "  <tbody>\n",
       "    <tr>\n",
       "      <th>1</th>\n",
       "      <td>39</td>\n",
       "    </tr>\n",
       "    <tr>\n",
       "      <th>2</th>\n",
       "      <td>1418</td>\n",
       "    </tr>\n",
       "    <tr>\n",
       "      <th>3</th>\n",
       "      <td>2402</td>\n",
       "    </tr>\n",
       "    <tr>\n",
       "      <th>4</th>\n",
       "      <td>1026</td>\n",
       "    </tr>\n",
       "    <tr>\n",
       "      <th>5</th>\n",
       "      <td>3</td>\n",
       "    </tr>\n",
       "  </tbody>\n",
       "</table>\n",
       "</div>"
      ],
      "text/plain": [
       "                        NumberOfPersonVisiting\n",
       "NumberOfPersonVisiting                        \n",
       "1                                           39\n",
       "2                                         1418\n",
       "3                                         2402\n",
       "4                                         1026\n",
       "5                                            3"
      ]
     },
     "execution_count": 68,
     "metadata": {},
     "output_type": "execute_result"
    }
   ],
   "source": [
    "customer_data.groupby(['NumberOfPersonVisiting'])[['NumberOfPersonVisiting']].count()"
   ]
  },
  {
   "cell_type": "code",
   "execution_count": 69,
   "metadata": {},
   "outputs": [
    {
     "data": {
      "image/png": "[encoded data removed]",
      "text/plain": [
       "<Figure size 1500x500 with 1 Axes>"
      ]
     },
     "metadata": {},
     "output_type": "display_data"
    }
   ],
   "source": [
    "plt.figure(figsize=(15,5))\n",
    "ax = sns.countplot(customer_data[\"NumberOfFollowups\"],palette='winter')\n",
    "perc_on_bar(ax,customer_data[\"NumberOfFollowups\"])"
   ]
  },
  {
   "cell_type": "code",
   "execution_count": 70,
   "metadata": {},
   "outputs": [
    {
     "data": {
      "text/html": [
       "<div>\n",
       "<style scoped>\n",
       "    .dataframe tbody tr th:only-of-type {\n",
       "        vertical-align: middle;\n",
       "    }\n",
       "\n",
       "    .dataframe tbody tr th {\n",
       "        vertical-align: top;\n",
       "    }\n",
       "\n",
       "    .dataframe thead th {\n",
       "        text-align: right;\n",
       "    }\n",
       "</style>\n",
       "<table border=\"1\" class=\"dataframe\">\n",
       "  <thead>\n",
       "    <tr style=\"text-align: right;\">\n",
       "      <th></th>\n",
       "      <th>NumberOfFollowups</th>\n",
       "    </tr>\n",
       "    <tr>\n",
       "      <th>NumberOfFollowups</th>\n",
       "      <th></th>\n",
       "    </tr>\n",
       "  </thead>\n",
       "  <tbody>\n",
       "    <tr>\n",
       "      <th>1.0</th>\n",
       "      <td>176</td>\n",
       "    </tr>\n",
       "    <tr>\n",
       "      <th>2.0</th>\n",
       "      <td>229</td>\n",
       "    </tr>\n",
       "    <tr>\n",
       "      <th>3.0</th>\n",
       "      <td>1466</td>\n",
       "    </tr>\n",
       "    <tr>\n",
       "      <th>4.0</th>\n",
       "      <td>2113</td>\n",
       "    </tr>\n",
       "    <tr>\n",
       "      <th>5.0</th>\n",
       "      <td>768</td>\n",
       "    </tr>\n",
       "    <tr>\n",
       "      <th>6.0</th>\n",
       "      <td>136</td>\n",
       "    </tr>\n",
       "  </tbody>\n",
       "</table>\n",
       "</div>"
      ],
      "text/plain": [
       "                   NumberOfFollowups\n",
       "NumberOfFollowups                   \n",
       "1.0                              176\n",
       "2.0                              229\n",
       "3.0                             1466\n",
       "4.0                             2113\n",
       "5.0                              768\n",
       "6.0                              136"
      ]
     },
     "execution_count": 70,
     "metadata": {},
     "output_type": "execute_result"
    }
   ],
   "source": [
    "customer_data.groupby(['NumberOfFollowups'])[['NumberOfFollowups']].count()"
   ]
  },
  {
   "cell_type": "code",
   "execution_count": 71,
   "metadata": {},
   "outputs": [
    {
     "data": {
      "image/png": "[encoded data removed]",
      "text/plain": [
       "<Figure size 1500x500 with 1 Axes>"
      ]
     },
     "metadata": {},
     "output_type": "display_data"
    }
   ],
   "source": [
    "plt.figure(figsize=(15,5))\n",
    "ax = sns.countplot(customer_data[\"ProductPitched\"],palette='winter')\n",
    "perc_on_bar(ax,customer_data[\"ProductPitched\"])"
   ]
  },
  {
   "cell_type": "code",
   "execution_count": 72,
   "metadata": {},
   "outputs": [
    {
     "data": {
      "text/html": [
       "<div>\n",
       "<style scoped>\n",
       "    .dataframe tbody tr th:only-of-type {\n",
       "        vertical-align: middle;\n",
       "    }\n",
       "\n",
       "    .dataframe tbody tr th {\n",
       "        vertical-align: top;\n",
       "    }\n",
       "\n",
       "    .dataframe thead th {\n",
       "        text-align: right;\n",
       "    }\n",
       "</style>\n",
       "<table border=\"1\" class=\"dataframe\">\n",
       "  <thead>\n",
       "    <tr style=\"text-align: right;\">\n",
       "      <th></th>\n",
       "      <th>ProductPitched</th>\n",
       "    </tr>\n",
       "    <tr>\n",
       "      <th>ProductPitched</th>\n",
       "      <th></th>\n",
       "    </tr>\n",
       "  </thead>\n",
       "  <tbody>\n",
       "    <tr>\n",
       "      <th>Basic</th>\n",
       "      <td>1842</td>\n",
       "    </tr>\n",
       "    <tr>\n",
       "      <th>Deluxe</th>\n",
       "      <td>1732</td>\n",
       "    </tr>\n",
       "    <tr>\n",
       "      <th>King</th>\n",
       "      <td>230</td>\n",
       "    </tr>\n",
       "    <tr>\n",
       "      <th>Standard</th>\n",
       "      <td>742</td>\n",
       "    </tr>\n",
       "    <tr>\n",
       "      <th>Super Deluxe</th>\n",
       "      <td>342</td>\n",
       "    </tr>\n",
       "  </tbody>\n",
       "</table>\n",
       "</div>"
      ],
      "text/plain": [
       "                ProductPitched\n",
       "ProductPitched                \n",
       "Basic                     1842\n",
       "Deluxe                    1732\n",
       "King                       230\n",
       "Standard                   742\n",
       "Super Deluxe               342"
      ]
     },
     "execution_count": 72,
     "metadata": {},
     "output_type": "execute_result"
    }
   ],
   "source": [
    "customer_data.groupby(['ProductPitched'])[['ProductPitched']].count()"
   ]
  },
  {
   "cell_type": "code",
   "execution_count": 73,
   "metadata": {},
   "outputs": [
    {
     "data": {
      "image/png": "[encoded data removed]",
      "text/plain": [
       "<Figure size 1500x500 with 1 Axes>"
      ]
     },
     "metadata": {},
     "output_type": "display_data"
    }
   ],
   "source": [
    "plt.figure(figsize=(15,5))\n",
    "ax = sns.countplot(customer_data[\"PreferredPropertyStar\"],palette='winter')\n",
    "perc_on_bar(ax,customer_data[\"PreferredPropertyStar\"])"
   ]
  },
  {
   "cell_type": "code",
   "execution_count": 74,
   "metadata": {},
   "outputs": [
    {
     "data": {
      "text/html": [
       "<div>\n",
       "<style scoped>\n",
       "    .dataframe tbody tr th:only-of-type {\n",
       "        vertical-align: middle;\n",
       "    }\n",
       "\n",
       "    .dataframe tbody tr th {\n",
       "        vertical-align: top;\n",
       "    }\n",
       "\n",
       "    .dataframe thead th {\n",
       "        text-align: right;\n",
       "    }\n",
       "</style>\n",
       "<table border=\"1\" class=\"dataframe\">\n",
       "  <thead>\n",
       "    <tr style=\"text-align: right;\">\n",
       "      <th></th>\n",
       "      <th>PreferredPropertyStar</th>\n",
       "    </tr>\n",
       "    <tr>\n",
       "      <th>PreferredPropertyStar</th>\n",
       "      <th></th>\n",
       "    </tr>\n",
       "  </thead>\n",
       "  <tbody>\n",
       "    <tr>\n",
       "      <th>3.0</th>\n",
       "      <td>3019</td>\n",
       "    </tr>\n",
       "    <tr>\n",
       "      <th>4.0</th>\n",
       "      <td>913</td>\n",
       "    </tr>\n",
       "    <tr>\n",
       "      <th>5.0</th>\n",
       "      <td>956</td>\n",
       "    </tr>\n",
       "  </tbody>\n",
       "</table>\n",
       "</div>"
      ],
      "text/plain": [
       "                       PreferredPropertyStar\n",
       "PreferredPropertyStar                       \n",
       "3.0                                     3019\n",
       "4.0                                      913\n",
       "5.0                                      956"
      ]
     },
     "execution_count": 74,
     "metadata": {},
     "output_type": "execute_result"
    }
   ],
   "source": [
    "customer_data.groupby(['PreferredPropertyStar'])[['PreferredPropertyStar']].count()"
   ]
  },
  {
   "cell_type": "code",
   "execution_count": 75,
   "metadata": {},
   "outputs": [
    {
     "data": {
      "image/png": "[encoded data removed]",
      "text/plain": [
       "<Figure size 1500x500 with 1 Axes>"
      ]
     },
     "metadata": {},
     "output_type": "display_data"
    }
   ],
   "source": [
    "plt.figure(figsize=(15,5))\n",
    "ax = sns.countplot(customer_data[\"MaritalStatus\"],palette='winter')\n",
    "perc_on_bar(ax,customer_data[\"MaritalStatus\"])"
   ]
  },
  {
   "cell_type": "code",
   "execution_count": 76,
   "metadata": {},
   "outputs": [
    {
     "data": {
      "text/html": [
       "<div>\n",
       "<style scoped>\n",
       "    .dataframe tbody tr th:only-of-type {\n",
       "        vertical-align: middle;\n",
       "    }\n",
       "\n",
       "    .dataframe tbody tr th {\n",
       "        vertical-align: top;\n",
       "    }\n",
       "\n",
       "    .dataframe thead th {\n",
       "        text-align: right;\n",
       "    }\n",
       "</style>\n",
       "<table border=\"1\" class=\"dataframe\">\n",
       "  <thead>\n",
       "    <tr style=\"text-align: right;\">\n",
       "      <th></th>\n",
       "      <th>MaritalStatus</th>\n",
       "    </tr>\n",
       "    <tr>\n",
       "      <th>MaritalStatus</th>\n",
       "      <th></th>\n",
       "    </tr>\n",
       "  </thead>\n",
       "  <tbody>\n",
       "    <tr>\n",
       "      <th>Divorced</th>\n",
       "      <td>950</td>\n",
       "    </tr>\n",
       "    <tr>\n",
       "      <th>Married</th>\n",
       "      <td>2340</td>\n",
       "    </tr>\n",
       "    <tr>\n",
       "      <th>Single</th>\n",
       "      <td>916</td>\n",
       "    </tr>\n",
       "    <tr>\n",
       "      <th>Unmarried</th>\n",
       "      <td>682</td>\n",
       "    </tr>\n",
       "  </tbody>\n",
       "</table>\n",
       "</div>"
      ],
      "text/plain": [
       "               MaritalStatus\n",
       "MaritalStatus               \n",
       "Divorced                 950\n",
       "Married                 2340\n",
       "Single                   916\n",
       "Unmarried                682"
      ]
     },
     "execution_count": 76,
     "metadata": {},
     "output_type": "execute_result"
    }
   ],
   "source": [
    "customer_data.groupby(['MaritalStatus'])[['MaritalStatus']].count()"
   ]
  },
  {
   "cell_type": "code",
   "execution_count": 77,
   "metadata": {},
   "outputs": [
    {
     "data": {
      "text/html": [
       "<div>\n",
       "<style scoped>\n",
       "    .dataframe tbody tr th:only-of-type {\n",
       "        vertical-align: middle;\n",
       "    }\n",
       "\n",
       "    .dataframe tbody tr th {\n",
       "        vertical-align: top;\n",
       "    }\n",
       "\n",
       "    .dataframe thead th {\n",
       "        text-align: right;\n",
       "    }\n",
       "</style>\n",
       "<table border=\"1\" class=\"dataframe\">\n",
       "  <thead>\n",
       "    <tr style=\"text-align: right;\">\n",
       "      <th></th>\n",
       "      <th>Passport</th>\n",
       "    </tr>\n",
       "    <tr>\n",
       "      <th>Passport</th>\n",
       "      <th></th>\n",
       "    </tr>\n",
       "  </thead>\n",
       "  <tbody>\n",
       "    <tr>\n",
       "      <th>0</th>\n",
       "      <td>3466</td>\n",
       "    </tr>\n",
       "    <tr>\n",
       "      <th>1</th>\n",
       "      <td>1422</td>\n",
       "    </tr>\n",
       "  </tbody>\n",
       "</table>\n",
       "</div>"
      ],
      "text/plain": [
       "          Passport\n",
       "Passport          \n",
       "0             3466\n",
       "1             1422"
      ]
     },
     "execution_count": 77,
     "metadata": {},
     "output_type": "execute_result"
    }
   ],
   "source": [
    "customer_data.groupby(['Passport'])[['Passport']].count()"
   ]
  },
  {
   "cell_type": "code",
   "execution_count": 78,
   "metadata": {},
   "outputs": [
    {
     "name": "stdout",
     "output_type": "stream",
     "text": [
      "Number of customers who have a passport: 1422 (29.09%)\n",
      "Number of customers who do not have a passport: 3466 (70.91%)\n"
     ]
    }
   ],
   "source": [
    "n_true = len(customer_data.loc[customer_data['Passport'] == 1])\n",
    "n_false = len(customer_data.loc[customer_data['Passport'] == 0])\n",
    "print(\"Number of customers who have a passport: {0} ({1:2.2f}%)\".format(n_true, (n_true / (n_true + n_false)) * 100 ))\n",
    "print(\"Number of customers who do not have a passport: {0} ({1:2.2f}%)\".format(n_false, (n_false / (n_true + n_false)) * 100))"
   ]
  },
  {
   "cell_type": "code",
   "execution_count": 79,
   "metadata": {},
   "outputs": [
    {
     "data": {
      "image/png": "[encoded data removed]",
      "text/plain": [
       "<Figure size 1500x500 with 1 Axes>"
      ]
     },
     "metadata": {},
     "output_type": "display_data"
    }
   ],
   "source": [
    "plt.figure(figsize=(15,5))\n",
    "ax = sns.countplot(customer_data[\"PitchSatisfactionScore\"],palette='winter')\n",
    "perc_on_bar(ax,customer_data[\"PitchSatisfactionScore\"])"
   ]
  },
  {
   "cell_type": "code",
   "execution_count": 80,
   "metadata": {},
   "outputs": [
    {
     "data": {
      "text/html": [
       "<div>\n",
       "<style scoped>\n",
       "    .dataframe tbody tr th:only-of-type {\n",
       "        vertical-align: middle;\n",
       "    }\n",
       "\n",
       "    .dataframe tbody tr th {\n",
       "        vertical-align: top;\n",
       "    }\n",
       "\n",
       "    .dataframe thead th {\n",
       "        text-align: right;\n",
       "    }\n",
       "</style>\n",
       "<table border=\"1\" class=\"dataframe\">\n",
       "  <thead>\n",
       "    <tr style=\"text-align: right;\">\n",
       "      <th></th>\n",
       "      <th>PitchSatisfactionScore</th>\n",
       "    </tr>\n",
       "    <tr>\n",
       "      <th>PitchSatisfactionScore</th>\n",
       "      <th></th>\n",
       "    </tr>\n",
       "  </thead>\n",
       "  <tbody>\n",
       "    <tr>\n",
       "      <th>1</th>\n",
       "      <td>942</td>\n",
       "    </tr>\n",
       "    <tr>\n",
       "      <th>2</th>\n",
       "      <td>586</td>\n",
       "    </tr>\n",
       "    <tr>\n",
       "      <th>3</th>\n",
       "      <td>1478</td>\n",
       "    </tr>\n",
       "    <tr>\n",
       "      <th>4</th>\n",
       "      <td>912</td>\n",
       "    </tr>\n",
       "    <tr>\n",
       "      <th>5</th>\n",
       "      <td>970</td>\n",
       "    </tr>\n",
       "  </tbody>\n",
       "</table>\n",
       "</div>"
      ],
      "text/plain": [
       "                        PitchSatisfactionScore\n",
       "PitchSatisfactionScore                        \n",
       "1                                          942\n",
       "2                                          586\n",
       "3                                         1478\n",
       "4                                          912\n",
       "5                                          970"
      ]
     },
     "execution_count": 80,
     "metadata": {},
     "output_type": "execute_result"
    }
   ],
   "source": [
    "customer_data.groupby(['PitchSatisfactionScore'])[['PitchSatisfactionScore']].count()"
   ]
  },
  {
   "cell_type": "code",
   "execution_count": 81,
   "metadata": {},
   "outputs": [
    {
     "data": {
      "text/html": [
       "<div>\n",
       "<style scoped>\n",
       "    .dataframe tbody tr th:only-of-type {\n",
       "        vertical-align: middle;\n",
       "    }\n",
       "\n",
       "    .dataframe tbody tr th {\n",
       "        vertical-align: top;\n",
       "    }\n",
       "\n",
       "    .dataframe thead th {\n",
       "        text-align: right;\n",
       "    }\n",
       "</style>\n",
       "<table border=\"1\" class=\"dataframe\">\n",
       "  <thead>\n",
       "    <tr style=\"text-align: right;\">\n",
       "      <th></th>\n",
       "      <th>OwnCar</th>\n",
       "    </tr>\n",
       "    <tr>\n",
       "      <th>OwnCar</th>\n",
       "      <th></th>\n",
       "    </tr>\n",
       "  </thead>\n",
       "  <tbody>\n",
       "    <tr>\n",
       "      <th>0</th>\n",
       "      <td>1856</td>\n",
       "    </tr>\n",
       "    <tr>\n",
       "      <th>1</th>\n",
       "      <td>3032</td>\n",
       "    </tr>\n",
       "  </tbody>\n",
       "</table>\n",
       "</div>"
      ],
      "text/plain": [
       "        OwnCar\n",
       "OwnCar        \n",
       "0         1856\n",
       "1         3032"
      ]
     },
     "execution_count": 81,
     "metadata": {},
     "output_type": "execute_result"
    }
   ],
   "source": [
    "customer_data.groupby(['OwnCar'])[['OwnCar']].count()"
   ]
  },
  {
   "cell_type": "code",
   "execution_count": 82,
   "metadata": {},
   "outputs": [
    {
     "data": {
      "image/png": "[encoded data removed]",
      "text/plain": [
       "<Figure size 1500x500 with 1 Axes>"
      ]
     },
     "metadata": {},
     "output_type": "display_data"
    }
   ],
   "source": [
    "plt.figure(figsize=(15,5))\n",
    "ax = sns.countplot(customer_data[\"NumberOfChildrenVisiting\"],palette='winter')\n",
    "perc_on_bar(ax,customer_data[\"NumberOfChildrenVisiting\"])"
   ]
  },
  {
   "cell_type": "code",
   "execution_count": 83,
   "metadata": {},
   "outputs": [
    {
     "data": {
      "text/html": [
       "<div>\n",
       "<style scoped>\n",
       "    .dataframe tbody tr th:only-of-type {\n",
       "        vertical-align: middle;\n",
       "    }\n",
       "\n",
       "    .dataframe tbody tr th {\n",
       "        vertical-align: top;\n",
       "    }\n",
       "\n",
       "    .dataframe thead th {\n",
       "        text-align: right;\n",
       "    }\n",
       "</style>\n",
       "<table border=\"1\" class=\"dataframe\">\n",
       "  <thead>\n",
       "    <tr style=\"text-align: right;\">\n",
       "      <th></th>\n",
       "      <th>NumberOfChildrenVisiting</th>\n",
       "    </tr>\n",
       "    <tr>\n",
       "      <th>NumberOfChildrenVisiting</th>\n",
       "      <th></th>\n",
       "    </tr>\n",
       "  </thead>\n",
       "  <tbody>\n",
       "    <tr>\n",
       "      <th>0.0</th>\n",
       "      <td>1082</td>\n",
       "    </tr>\n",
       "    <tr>\n",
       "      <th>1.0</th>\n",
       "      <td>2146</td>\n",
       "    </tr>\n",
       "    <tr>\n",
       "      <th>2.0</th>\n",
       "      <td>1335</td>\n",
       "    </tr>\n",
       "    <tr>\n",
       "      <th>3.0</th>\n",
       "      <td>325</td>\n",
       "    </tr>\n",
       "  </tbody>\n",
       "</table>\n",
       "</div>"
      ],
      "text/plain": [
       "                          NumberOfChildrenVisiting\n",
       "NumberOfChildrenVisiting                          \n",
       "0.0                                           1082\n",
       "1.0                                           2146\n",
       "2.0                                           1335\n",
       "3.0                                            325"
      ]
     },
     "execution_count": 83,
     "metadata": {},
     "output_type": "execute_result"
    }
   ],
   "source": [
    "customer_data.groupby(['NumberOfChildrenVisiting'])[['NumberOfChildrenVisiting']].count()"
   ]
  },
  {
   "cell_type": "code",
   "execution_count": 84,
   "metadata": {},
   "outputs": [
    {
     "data": {
      "image/png": "[encoded data removed]",
      "text/plain": [
       "<Figure size 1500x500 with 1 Axes>"
      ]
     },
     "metadata": {},
     "output_type": "display_data"
    }
   ],
   "source": [
    "plt.figure(figsize=(15,5))\n",
    "ax = sns.countplot(customer_data[\"Designation\"],palette='winter')\n",
    "perc_on_bar(ax,customer_data[\"Designation\"])"
   ]
  },
  {
   "cell_type": "code",
   "execution_count": 85,
   "metadata": {},
   "outputs": [
    {
     "data": {
      "text/html": [
       "<div>\n",
       "<style scoped>\n",
       "    .dataframe tbody tr th:only-of-type {\n",
       "        vertical-align: middle;\n",
       "    }\n",
       "\n",
       "    .dataframe tbody tr th {\n",
       "        vertical-align: top;\n",
       "    }\n",
       "\n",
       "    .dataframe thead th {\n",
       "        text-align: right;\n",
       "    }\n",
       "</style>\n",
       "<table border=\"1\" class=\"dataframe\">\n",
       "  <thead>\n",
       "    <tr style=\"text-align: right;\">\n",
       "      <th></th>\n",
       "      <th>Designation</th>\n",
       "    </tr>\n",
       "    <tr>\n",
       "      <th>Designation</th>\n",
       "      <th></th>\n",
       "    </tr>\n",
       "  </thead>\n",
       "  <tbody>\n",
       "    <tr>\n",
       "      <th>AVP</th>\n",
       "      <td>342</td>\n",
       "    </tr>\n",
       "    <tr>\n",
       "      <th>Executive</th>\n",
       "      <td>1842</td>\n",
       "    </tr>\n",
       "    <tr>\n",
       "      <th>Manager</th>\n",
       "      <td>1732</td>\n",
       "    </tr>\n",
       "    <tr>\n",
       "      <th>Senior Manager</th>\n",
       "      <td>742</td>\n",
       "    </tr>\n",
       "    <tr>\n",
       "      <th>VP</th>\n",
       "      <td>230</td>\n",
       "    </tr>\n",
       "  </tbody>\n",
       "</table>\n",
       "</div>"
      ],
      "text/plain": [
       "                Designation\n",
       "Designation                \n",
       "AVP                     342\n",
       "Executive              1842\n",
       "Manager                1732\n",
       "Senior Manager          742\n",
       "VP                      230"
      ]
     },
     "execution_count": 85,
     "metadata": {},
     "output_type": "execute_result"
    }
   ],
   "source": [
    "customer_data.groupby(['Designation'])[['Designation']].count()"
   ]
  },
  {
   "cell_type": "code",
   "execution_count": 86,
   "metadata": {},
   "outputs": [
    {
     "data": {
      "text/html": [
       "<div>\n",
       "<style scoped>\n",
       "    .dataframe tbody tr th:only-of-type {\n",
       "        vertical-align: middle;\n",
       "    }\n",
       "\n",
       "    .dataframe tbody tr th {\n",
       "        vertical-align: top;\n",
       "    }\n",
       "\n",
       "    .dataframe thead th {\n",
       "        text-align: right;\n",
       "    }\n",
       "</style>\n",
       "<table border=\"1\" class=\"dataframe\">\n",
       "  <thead>\n",
       "    <tr style=\"text-align: right;\">\n",
       "      <th></th>\n",
       "      <th>count</th>\n",
       "      <th>mean</th>\n",
       "      <th>std</th>\n",
       "      <th>min</th>\n",
       "      <th>25%</th>\n",
       "      <th>50%</th>\n",
       "      <th>75%</th>\n",
       "      <th>max</th>\n",
       "    </tr>\n",
       "  </thead>\n",
       "  <tbody>\n",
       "    <tr>\n",
       "      <th>Age</th>\n",
       "      <td>4888.0</td>\n",
       "      <td>37.547259</td>\n",
       "      <td>9.104795</td>\n",
       "      <td>18.0</td>\n",
       "      <td>31.0</td>\n",
       "      <td>36.0</td>\n",
       "      <td>43.00</td>\n",
       "      <td>61.0</td>\n",
       "    </tr>\n",
       "    <tr>\n",
       "      <th>DurationOfPitch</th>\n",
       "      <td>4888.0</td>\n",
       "      <td>15.362930</td>\n",
       "      <td>8.316166</td>\n",
       "      <td>5.0</td>\n",
       "      <td>9.0</td>\n",
       "      <td>13.0</td>\n",
       "      <td>19.00</td>\n",
       "      <td>127.0</td>\n",
       "    </tr>\n",
       "    <tr>\n",
       "      <th>NumberOfTrips</th>\n",
       "      <td>4888.0</td>\n",
       "      <td>3.229746</td>\n",
       "      <td>1.822769</td>\n",
       "      <td>1.0</td>\n",
       "      <td>2.0</td>\n",
       "      <td>3.0</td>\n",
       "      <td>4.00</td>\n",
       "      <td>22.0</td>\n",
       "    </tr>\n",
       "    <tr>\n",
       "      <th>MonthlyIncome</th>\n",
       "      <td>4888.0</td>\n",
       "      <td>23559.179419</td>\n",
       "      <td>5257.862921</td>\n",
       "      <td>1000.0</td>\n",
       "      <td>20485.0</td>\n",
       "      <td>22347.0</td>\n",
       "      <td>25424.75</td>\n",
       "      <td>98678.0</td>\n",
       "    </tr>\n",
       "  </tbody>\n",
       "</table>\n",
       "</div>"
      ],
      "text/plain": [
       "                  count          mean          std     min      25%      50%  \\\n",
       "Age              4888.0     37.547259     9.104795    18.0     31.0     36.0   \n",
       "DurationOfPitch  4888.0     15.362930     8.316166     5.0      9.0     13.0   \n",
       "NumberOfTrips    4888.0      3.229746     1.822769     1.0      2.0      3.0   \n",
       "MonthlyIncome    4888.0  23559.179419  5257.862921  1000.0  20485.0  22347.0   \n",
       "\n",
       "                      75%      max  \n",
       "Age                 43.00     61.0  \n",
       "DurationOfPitch     19.00    127.0  \n",
       "NumberOfTrips        4.00     22.0  \n",
       "MonthlyIncome    25424.75  98678.0  "
      ]
     },
     "execution_count": 86,
     "metadata": {},
     "output_type": "execute_result"
    }
   ],
   "source": [
    "customer_data.describe().T"
   ]
  },
  {
   "cell_type": "markdown",
   "metadata": {},
   "source": [
    "### Additional Univariate Analysis Observations and Insights"
   ]
  },
  {
   "cell_type": "markdown",
   "metadata": {},
   "source": [
    "1.\tOf the 4,888 customers, only 920 (18.8%) previously purchased a travel package. \n",
    "2.\tAbout 70% of the customers self-inquired about a travel package in the past. \n",
    "3.\tNearly two-thirds (65%) of customers are in a “Tier 1” city (development, population, facilities, and living standards). Nearly one-third (31%) are in a “Tier 3” city, and the rest (< 5%) are in a “Tier 2” city. \n",
    "4.\tAbout 90% of customers are salaried (near half), with about 40% working for a small business. Nearly 10% work for a large business, and two customers are free lancers.\n",
    "5.\tApproximately half the customers anticipate traveling with three other people. About 30% anticipate traveling with two, 20% with one. Less than 1% anticipate traveling with only one person or five others. \n",
    "6.\tNearly 75% of all customers received either three or four follow-ups by sales staff after the initial pitch. Less than 10% received fewer than three and nearly 20% received five or more follow-ups (none more than six). \n",
    "7.\tOf the five packages offered in the past, the Basic package was pitched most often (38%), followed by Deluxe (35%), Standard (15%), Super Deluxe (7%), and King (5%).\n",
    "8.\tThe majority of customers (62%) prefer a 3-star rated hotel whereas nearly 40% seek a higher quality (19% 4-star, 19% 5-star). \n",
    "9.\tIn terms marital status, 48% are married, 19% are divorced, 19% single, and 14% unmarried. \n",
    "10.\tSurprisingly, 71% of customers do not have a passport for international travel. \n",
    "11.\tThe sales pitch satisfaction scores have room for improvement. Nearly one-third rated 2 or worse (scale of 1 = worse, to 5 = best). The percentage of “3” (average) ratings was 30% and 19% rated “4”, 20% rated “5”.  \n",
    "12.\tApproximately half the customers (44%) anticipate traveling with one child under the age of five years old. About 30% anticipate traveling with two, 22% with one. About 7% anticipate traveling with three children under the age of five years old. \n",
    "13.\tThe majority of customers are senior within their work organization. About 38% identify as an Executive, followed by 35% as Manager, 15% as Senior Manager, 7% as AVP, and 5% as VP. \n"
   ]
  },
  {
   "cell_type": "markdown",
   "metadata": {},
   "source": [
    "## <a id = \"link3\"> Exploratory Data Analysis (EDA): Multivariate Analysis</a>"
   ]
  },
  {
   "cell_type": "code",
   "execution_count": 90,
   "metadata": {},
   "outputs": [
    {
     "data": {
      "image/png": "[encoded data removed]",
      "text/plain": [
       "<Figure size 600x600 with 3 Axes>"
      ]
     },
     "metadata": {},
     "output_type": "display_data"
    },
    {
     "data": {
      "image/png": "[encoded data removed]",
      "text/plain": [
       "<Figure size 600x600 with 3 Axes>"
      ]
     },
     "metadata": {},
     "output_type": "display_data"
    },
    {
     "data": {
      "image/png": "[encoded data removed]",
      "text/plain": [
       "<Figure size 600x600 with 3 Axes>"
      ]
     },
     "metadata": {},
     "output_type": "display_data"
    },
    {
     "data": {
      "image/png": "[encoded data removed]",
      "text/plain": [
       "<Figure size 600x600 with 3 Axes>"
      ]
     },
     "metadata": {},
     "output_type": "display_data"
    },
    {
     "data": {
      "image/png": "[encoded data removed]",
      "text/plain": [
       "<Figure size 600x600 with 3 Axes>"
      ]
     },
     "metadata": {},
     "output_type": "display_data"
    },
    {
     "data": {
      "image/png": "[encoded data removed]",
      "text/plain": [
       "<Figure size 600x600 with 3 Axes>"
      ]
     },
     "metadata": {},
     "output_type": "display_data"
    }
   ],
   "source": [
    "# bivariate joint plots with the relationship of numerical variables\n",
    "\n",
    "sns.jointplot(y =customer_data['Age'], x = customer_data['DurationOfPitch'],color='purple')\n",
    "plt.show()\n",
    "\n",
    "sns.jointplot(y=customer_data['Age'], x=customer_data['NumberOfTrips'],color='blue')\n",
    "plt.show()\n",
    "\n",
    "sns.jointplot(y=customer_data['Age'], x=customer_data['MonthlyIncome'],color='red')\n",
    "plt.show()\n",
    "\n",
    "sns.jointplot(y=customer_data['DurationOfPitch'], x=customer_data['NumberOfTrips'],color='yellow')\n",
    "plt.show()\n",
    "\n",
    "sns.jointplot(y=customer_data['MonthlyIncome'], x = customer_data['NumberOfTrips'],color='green')\n",
    "plt.show()\n",
    "\n",
    "sns.jointplot(y =customer_data['MonthlyIncome'], x =customer_data['DurationOfPitch'],color='pink')\n",
    "plt.show()"
   ]
  },
  {
   "cell_type": "code",
   "execution_count": 91,
   "metadata": {},
   "outputs": [
    {
     "data": {
      "image/png": "[encoded data removed]",
      "text/plain": [
       "<Figure size 640x480 with 1 Axes>"
      ]
     },
     "metadata": {},
     "output_type": "display_data"
    },
    {
     "data": {
      "image/png": "[encoded data removed]",
      "text/plain": [
       "<Figure size 640x480 with 1 Axes>"
      ]
     },
     "metadata": {},
     "output_type": "display_data"
    },
    {
     "data": {
      "image/png": "[encoded data removed]",
      "text/plain": [
       "<Figure size 640x480 with 1 Axes>"
      ]
     },
     "metadata": {},
     "output_type": "display_data"
    },
    {
     "data": {
      "image/png": "[encoded data removed]",
      "text/plain": [
       "<Figure size 640x480 with 1 Axes>"
      ]
     },
     "metadata": {},
     "output_type": "display_data"
    }
   ],
   "source": [
    "# box plots to show the relationship between two variables \n",
    "# Five Number Summary: Min, 25%, 50%, 75%, Max (box plot is a visual representation of the 5 number summary)\n",
    "# The \"whiskers\" extend to points that are within 1.5 IQRs of the lower and upper quartile.\n",
    "# The values (outliers) outside this range are displayed independently. \n",
    "\n",
    "# IQR = Q3 (75%) - Q1 (25%)\n",
    "\n",
    "sns.boxplot(customer_data['Age'])\n",
    "plt.show()\n",
    "\n",
    "sns.boxplot(customer_data['DurationOfPitch'])\n",
    "plt.show()\n",
    "\n",
    "sns.boxplot(customer_data['NumberOfTrips'])\n",
    "plt.show()\n",
    "\n",
    "sns.boxplot(customer_data['MonthlyIncome'])\n",
    "plt.show()\n"
   ]
  },
  {
   "cell_type": "code",
   "execution_count": null,
   "metadata": {},
   "outputs": [],
   "source": [
    "customer_data.corr()"
   ]
  },
  {
   "cell_type": "markdown",
   "metadata": {},
   "source": [
    "#### Correlation Analysis\n",
    "1.\tThere is a nearly non-existent correlation between the customer’s age and the duration of the sales pitch they received.\n",
    "2.\tIntuitively, there is a reasonably high positive correlation with age and monthly income. \n",
    "3.\tThere is also a positive correlation between a customer’s age and the average number of trips they take each year. \n",
    "4.\tThe number of trips that customers take has a slight positive correlation with their monthly income. \n",
    "5.\tThe duration of the initial sales pitch also has little bearing on how often a customer will travel in a year. \n"
   ]
  },
  {
   "cell_type": "code",
   "execution_count": null,
   "metadata": {},
   "outputs": [],
   "source": [
    "cols = customer_data[['Age','DurationOfPitch','NumberOfTrips','MonthlyIncome']].columns.tolist()\n",
    "plt.figure(figsize=(10,10))\n",
    "\n",
    "for i, variable in enumerate(cols):\n",
    "                     plt.subplot(3,2,i+1)\n",
    "                     sns.boxplot(customer_data[\"ProdTaken\"],customer_data[variable],palette=\"PuBu\")\n",
    "                     plt.tight_layout()\n",
    "                     plt.title(variable)\n",
    "plt.show()"
   ]
  },
  {
   "cell_type": "code",
   "execution_count": null,
   "metadata": {},
   "outputs": [],
   "source": [
    "stacked_plot(customer_data['TypeofContact'])"
   ]
  },
  {
   "cell_type": "code",
   "execution_count": null,
   "metadata": {},
   "outputs": [],
   "source": [
    "print(310/917)\n",
    "print(607/917)\n",
    "print(310/1419)\n",
    "print(607/3444)"
   ]
  },
  {
   "cell_type": "code",
   "execution_count": null,
   "metadata": {},
   "outputs": [],
   "source": [
    "stacked_plot(customer_data['CityTier'])"
   ]
  },
  {
   "cell_type": "code",
   "execution_count": null,
   "metadata": {},
   "outputs": [],
   "source": [
    "print(520/920)\n",
    "print(46/920)\n",
    "print(354/920)\n",
    "print(\"\")\n",
    "print(520/3190)\n",
    "print(46/198)\n",
    "print(354/1500)"
   ]
  },
  {
   "cell_type": "code",
   "execution_count": null,
   "metadata": {},
   "outputs": [],
   "source": [
    "stacked_plot(customer_data['Occupation'])"
   ]
  },
  {
   "cell_type": "code",
   "execution_count": null,
   "metadata": {},
   "outputs": [],
   "source": [
    "print(2/2)\n",
    "print(120/434)\n",
    "print(414/2368)\n",
    "print(384/2084)"
   ]
  },
  {
   "cell_type": "code",
   "execution_count": null,
   "metadata": {},
   "outputs": [],
   "source": [
    "stacked_plot(customer_data['Gender'])"
   ]
  },
  {
   "cell_type": "code",
   "execution_count": null,
   "metadata": {},
   "outputs": [],
   "source": [
    "print(342/1972)\n",
    "print(578/2916)"
   ]
  },
  {
   "cell_type": "code",
   "execution_count": null,
   "metadata": {},
   "outputs": [],
   "source": [
    "stacked_plot(customer_data['NumberOfPersonVisiting'])"
   ]
  },
  {
   "cell_type": "code",
   "execution_count": null,
   "metadata": {},
   "outputs": [],
   "source": [
    "print(0/39)\n",
    "print(267/1418)\n",
    "print(460/2402)\n",
    "print(193/1026)\n",
    "print(0/3)"
   ]
  },
  {
   "cell_type": "code",
   "execution_count": null,
   "metadata": {},
   "outputs": [],
   "source": [
    "stacked_plot(customer_data['NumberOfFollowups'])"
   ]
  },
  {
   "cell_type": "code",
   "execution_count": null,
   "metadata": {},
   "outputs": [],
   "source": [
    "print(20/176)\n",
    "print(24/229)\n",
    "print(244/1466)\n",
    "print(387/2113)\n",
    "print(191/768)\n",
    "print(54/136)"
   ]
  },
  {
   "cell_type": "code",
   "execution_count": null,
   "metadata": {},
   "outputs": [],
   "source": [
    "stacked_plot(customer_data['ProductPitched'])"
   ]
  },
  {
   "cell_type": "code",
   "execution_count": null,
   "metadata": {},
   "outputs": [],
   "source": [
    "print(552/1842)\n",
    "print(204/1732)\n",
    "print(20/230)\n",
    "print(142/742)\n",
    "print(20/342)"
   ]
  },
  {
   "cell_type": "code",
   "execution_count": null,
   "metadata": {},
   "outputs": [],
   "source": [
    "stacked_plot(customer_data['PreferredPropertyStar'])"
   ]
  },
  {
   "cell_type": "code",
   "execution_count": null,
   "metadata": {},
   "outputs": [],
   "source": [
    "print(488/3019)\n",
    "print(182/913)\n",
    "print(250/956)"
   ]
  },
  {
   "cell_type": "code",
   "execution_count": null,
   "metadata": {},
   "outputs": [],
   "source": [
    "stacked_plot(customer_data['MaritalStatus'])"
   ]
  },
  {
   "cell_type": "code",
   "execution_count": null,
   "metadata": {},
   "outputs": [],
   "source": [
    "print(124/950)\n",
    "print(326/2340)\n",
    "print(304/916)\n",
    "print(166/682)"
   ]
  },
  {
   "cell_type": "code",
   "execution_count": null,
   "metadata": {},
   "outputs": [],
   "source": [
    "stacked_plot(customer_data['Passport'])"
   ]
  },
  {
   "cell_type": "code",
   "execution_count": null,
   "metadata": {},
   "outputs": [],
   "source": [
    "print(426/3466)\n",
    "print(494/1422)"
   ]
  },
  {
   "cell_type": "code",
   "execution_count": null,
   "metadata": {},
   "outputs": [],
   "source": [
    "stacked_plot(customer_data['PitchSatisfactionScore'])"
   ]
  },
  {
   "cell_type": "code",
   "execution_count": null,
   "metadata": {},
   "outputs": [],
   "source": [
    "print(144/942)\n",
    "print(88/586)\n",
    "print(316/1478)\n",
    "print(162/912)\n",
    "print(210/970)"
   ]
  },
  {
   "cell_type": "code",
   "execution_count": null,
   "metadata": {},
   "outputs": [],
   "source": [
    "stacked_plot(customer_data['OwnCar'])"
   ]
  },
  {
   "cell_type": "code",
   "execution_count": null,
   "metadata": {},
   "outputs": [],
   "source": [
    "print(360/1856)\n",
    "print(560/3032)"
   ]
  },
  {
   "cell_type": "code",
   "execution_count": null,
   "metadata": {},
   "outputs": [],
   "source": [
    "stacked_plot(customer_data['NumberOfChildrenVisiting'])"
   ]
  },
  {
   "cell_type": "code",
   "execution_count": null,
   "metadata": {},
   "outputs": [],
   "source": [
    "print(202/1082)\n",
    "print(399/2146)\n",
    "print(253/1335)\n",
    "print(66/325)"
   ]
  },
  {
   "cell_type": "code",
   "execution_count": null,
   "metadata": {},
   "outputs": [],
   "source": [
    "stacked_plot(customer_data['Designation'])"
   ]
  },
  {
   "cell_type": "code",
   "execution_count": null,
   "metadata": {},
   "outputs": [],
   "source": [
    "print(20/342)\n",
    "print(552/1842)\n",
    "print(204/1732)\n",
    "print(124/742)\n",
    "print(20/230)"
   ]
  },
  {
   "cell_type": "markdown",
   "metadata": {},
   "source": [
    "### Multivariate Analysis Observations and Insights"
   ]
  },
  {
   "cell_type": "markdown",
   "metadata": {},
   "source": [
    "#### Analysis of Customers who Did and Did Not Purchase a Travel Package from Us in the Past\n",
    "\n",
    "1.\tIn the past, 920 customers purchased a travel package from us – 67% of them inquired on their own and 33% were contacted by one of our sales representatives. \n",
    "2.\tThe success rate on “company invited” type of contact was 22%, compared to 18% when customers inquired on their own. \n",
    "3.\tThe percentage of customers from a Tier 1 city who purchased a travel package was 16%, compared to 23% from Tier 2, and 24% from Tier 3. \n",
    "4.\t28% of customers employed by a large business purchased a travel package, compared to 18% from a small business. 17% of salaried employees purchased a travel package and both customers free lance purchased a travel package.\n",
    "5.\tMale customers purchased a travel package at a slightly higher rate (20%) than female (17%). \n",
    "6.\tCustomers with one or five other people traveling with them did not by a travel package in the past. However, that accounts for less than 1% of total customers. When traveling with 2-4 other people, the rate at which customers purchased a travel package was consistent – around 19%.\n",
    "7.\tThere is a positive correlation between how often a sales rep follows-up with a customer and them purchasing a travel package. With six follow-ups, the purchase rate was 40%, 25% with five, 18% with four, 17% with three, and around 10% when we followed-up only once or twice. \n",
    "8.\tWhen we pitched our Basic package (which was most of the time), our success rate was high – at 30%, compared to 19% for the Standard package, 11% for Deluxe, and only 8% for 6% for King and Super Deluxe, respectively.\n",
    "9.\tCustomers who prefer to stay at higher-end hotels also are more likely to purchase a travel package from us. The success rate is 26% for customers who prefer a 5-star hotel, 20% for those who prefer a 4-star hotel, and 16% for those who prefer a 3-star hotel. \n",
    "10.\tSingle travelers purchased a travel package from us at the highest rate (33%), followed by unmarried (24%). Both divorced and married travelers appear much less likely – at about 13% each.   \n",
    "11.\tUnsurprisingly, customers with a passport are nearly three times as likely to purchase a travel package. The past success rate is 35% for those who have a passport, and 12% for those who do not. \n",
    "12.\tHigher customer satisfaction scores (re: sales pitch) tend to result in a greater likelihood to purchase a travel package. Those who rated “5” (best), purchased 22% of the time. The success rate for those who rated “4” is 18%, “3” is 21%, and noticeably lower when ratings are two or worse (15%). \n",
    "13.\tThere is little difference in customers who purchase a travel package between those who own a car and those who do not. Both are around 19%. \n",
    "14.\tCustomers who plan to travel with three young children (under the age of five) are slightly more likely to have purchased a travel package from us (20%), compared to those with fewer than three (19%). \n",
    "15.\tExecutives purchased a travel package from us at a much higher rate (30%) than others. Senior Managers and Managers were at 17% and 12%, respectively. Both VP and AVP were under 10% (9% and 6%, respectively). \n",
    "16.\tAlthough older customers tend to have higher incomes and work titles, the average age of customers who purchased a travel product was slightly lower than those who did not. \n",
    "17.\tThe duration of the sales pitch was longer when customers ultimately purchased a product – despite one very long pitch that did not result in a sale. \n",
    "18.\tThere is not a material difference in monthly income between those who purchased a travel package and those who did not – largely because the incomes are relatively high for most customers. Those at the lowest end of monthly income did not purchase a travel package. \n",
    "19.\tThe annual frequency at which customers travel appears to little variation amongst those who purchased from us and those who did not. \n"
   ]
  },
  {
   "cell_type": "markdown",
   "metadata": {},
   "source": [
    "## <a id = \"link4\"> Data Pre-Processing (for Modeling) </a>"
   ]
  },
  {
   "cell_type": "code",
   "execution_count": null,
   "metadata": {},
   "outputs": [],
   "source": [
    "#creating a function to convert the categorical data. ONLY FOR ProductPitched and Designation - so we can rank order them. \n",
    "# others will use one hot encoding   \n",
    "\n",
    "replaceStruct = {\n",
    "                \"ProductPitched\":     {\"Basic\": 1, \"Standard\": 2 ,\"Deluxe\": 3 ,\"Super Deluxe\":4, \"King\":5},\n",
    "                \"Designation\": {\"AVP\": 1, \"VP\":2 , \"Manager\": 3, \"Senior Manager\": 4,\"Executive\": 5}}\n",
    "            \n",
    "#We will use One Hot Encoder convert categorical values into numerical values.\n",
    "#Each category value is converted into a new column and assigned a 1 or 0 (notation for true/false) value to the column.\n",
    "oneHotCols=[\"TypeofContact\",\"CityTier\",\"Occupation\",\"NumberOfPersonVisiting\",\"NumberOfFollowups\",\"ProductPitched\",\"PreferredPropertyStar\",\"MaritalStatus\",\"PitchSatisfactionScore\",\"NumberOfChildrenVisiting\",\"Designation\"]"
   ]
  },
  {
   "cell_type": "code",
   "execution_count": null,
   "metadata": {},
   "outputs": [],
   "source": [
    "customer_data=customer_data.replace(replaceStruct) # replace the original dataframe with the reclassified one\n",
    "\n",
    "customer_data=pd.get_dummies(customer_data, columns=oneHotCols) \n",
    "#restate the dataframe again by adding dummy variables (One Hot Encoder)\n",
    "\n"
   ]
  },
  {
   "cell_type": "code",
   "execution_count": null,
   "metadata": {},
   "outputs": [],
   "source": [
    "pd.set_option('display.max_columns', 500)"
   ]
  },
  {
   "cell_type": "code",
   "execution_count": null,
   "metadata": {},
   "outputs": [],
   "source": [
    "customer_data.head(10)"
   ]
  },
  {
   "cell_type": "code",
   "execution_count": null,
   "metadata": {},
   "outputs": [],
   "source": [
    "customer_data.info() # our dataframe went from 20 columns and 1,000 rows to 54 columns and 1,000 rows"
   ]
  },
  {
   "cell_type": "markdown",
   "metadata": {},
   "source": [
    "### Split the Data into Training and Testing Datasets"
   ]
  },
  {
   "cell_type": "markdown",
   "metadata": {},
   "source": [
    "- When data (classification) exhibit a significant imbalance in the distribution of the target classes, it is good to use stratified sampling to ensure that relative class frequencies are approximately preserved in train and test sets. \n",
    "- This is done by setting the `stratify` parameter to target variable in the train_test_split function."
   ]
  },
  {
   "cell_type": "code",
   "execution_count": null,
   "metadata": {},
   "outputs": [],
   "source": [
    "X = customer_data.drop(['ProdTaken'],axis=1)\n",
    "X = pd.get_dummies(X,drop_first=True)\n",
    "y = customer_data['ProdTaken']"
   ]
  },
  {
   "cell_type": "code",
   "execution_count": null,
   "metadata": {},
   "outputs": [],
   "source": [
    "X_train, X_test, y_train, y_test = train_test_split(X, y, test_size=.30, random_state=1,stratify=y)\n",
    "\n",
    "#stratify=y to maintain the ratio of defaulters and non-defaulters across the datasets."
   ]
  },
  {
   "cell_type": "code",
   "execution_count": null,
   "metadata": {},
   "outputs": [],
   "source": [
    "print(X_train.shape, X_test.shape)"
   ]
  },
  {
   "cell_type": "code",
   "execution_count": null,
   "metadata": {},
   "outputs": [],
   "source": [
    "#Let's check that splitting the data worked. \n",
    "\n",
    "print(\"{0:0.2f}% data is in training set\".format((len(X_train)/len(customer_data.index)) * 100))\n",
    "print(\"{0:0.2f}% data is in test set\".format((len(X_test)/len(customer_data.index)) * 100))"
   ]
  },
  {
   "cell_type": "markdown",
   "metadata": {},
   "source": [
    "#### The \"Stratify\" arguments maintains the original distribution of classes in the target variable (\"Prod_Taken\") while splitting the data into train and test sets."
   ]
  },
  {
   "cell_type": "code",
   "execution_count": null,
   "metadata": {},
   "outputs": [],
   "source": [
    "y.value_counts(1)"
   ]
  },
  {
   "cell_type": "code",
   "execution_count": null,
   "metadata": {},
   "outputs": [],
   "source": [
    "y_test.value_counts(1)"
   ]
  },
  {
   "cell_type": "markdown",
   "metadata": {},
   "source": [
    "#### Before building the model, we will create functions to calculate different metrics- Accuracy, Recall and Precision and plot the confusion matrix."
   ]
  },
  {
   "cell_type": "code",
   "execution_count": null,
   "metadata": {},
   "outputs": [],
   "source": [
    "##  Function to calculate recall score\n",
    "def get_recall_score(model,flag=True):\n",
    "    '''\n",
    "    model : classifier to predict values of X\n",
    "\n",
    "    '''\n",
    "    a = [] # defining an empty list to store train and test results\n",
    "    pred_train = model.predict(X_train)\n",
    "    pred_test = model.predict(X_test)\n",
    "    train_recall = metrics.recall_score(y_train,pred_train)\n",
    "    test_recall = metrics.recall_score(y_test,pred_test)\n",
    "    a.append(train_recall) # adding train recall to list \n",
    "    a.append(test_recall) # adding test recall to list\n",
    "    if flag == True: # If the flag is set to True then only the following print statements will be dispayed\n",
    "        print(\"Recall on training set : \",metrics.recall_score(y_train,pred_train))\n",
    "        print(\"Recall on test set : \",metrics.recall_score(y_test,pred_test))\n",
    "    \n",
    "    return a # returning the list with train and test scores"
   ]
  },
  {
   "cell_type": "code",
   "execution_count": null,
   "metadata": {},
   "outputs": [],
   "source": [
    "##  Function to calculate precision score\n",
    "def get_precision_score(model,flag=True):\n",
    "    '''\n",
    "    model : classifier to predict values of X\n",
    "\n",
    "    '''\n",
    "    b = []  # defining an empty list to store train and test results\n",
    "    pred_train = model.predict(X_train)\n",
    "    pred_test = model.predict(X_test)\n",
    "    train_precision = metrics.precision_score(y_train,pred_train)\n",
    "    test_precision = metrics.precision_score(y_test,pred_test)\n",
    "    b.append(train_precision) # adding train precision to list\n",
    "    b.append(test_precision) # adding test precision to list\n",
    "    if flag == True: # If the flag is set to True then only the following print statements will be dispayed\n",
    "        print(\"Precision on training set : \",metrics.precision_score(y_train,pred_train))\n",
    "        print(\"Precision on test set : \",metrics.precision_score(y_test,pred_test))\n",
    "\n",
    "    return b # returning the list with train and test scores"
   ]
  },
  {
   "cell_type": "code",
   "execution_count": null,
   "metadata": {},
   "outputs": [],
   "source": [
    "##  Function to calculate accuracy score\n",
    "def get_accuracy_score(model,flag=True):\n",
    "    '''\n",
    "    model : classifier to predict values of X\n",
    "\n",
    "    '''\n",
    "    c = [] # defining an empty list to store train and test results\n",
    "    train_acc = model.score(X_train,y_train)\n",
    "    test_acc = model.score(X_test,y_test)\n",
    "    c.append(train_acc) # adding train accuracy to list\n",
    "    c.append(test_acc) # adding test accuracy to list\n",
    "    if flag == True: # If the flag is set to True then only the following print statements will be dispayed\n",
    "        print(\"Accuracy on training set : \",model.score(X_train,y_train))\n",
    "        print(\"Accuracy on test set : \",model.score(X_test,y_test))\n",
    "    \n",
    "    return c # returning the list with train and test scores"
   ]
  },
  {
   "cell_type": "code",
   "execution_count": null,
   "metadata": {},
   "outputs": [],
   "source": [
    "def make_confusion_matrix(model,y_actual,labels=[1, 0]):\n",
    "    '''\n",
    "    model : classifier to predict values of X\n",
    "    y_actual : ground truth  \n",
    "    \n",
    "    '''\n",
    "    y_predict = model.predict(X_test)\n",
    "    cm=metrics.confusion_matrix( y_actual, y_predict, labels=[0, 1])\n",
    "    df_cm = pd.DataFrame(cm, index = [i for i in [\"Actual - No\",\"Actual - Yes\"]],\n",
    "                  columns = [i for i in ['Predicted - No','Predicted - Yes']])\n",
    "    group_counts = [\"{0:0.0f}\".format(value) for value in\n",
    "                cm.flatten()]\n",
    "    group_percentages = [\"{0:.2%}\".format(value) for value in\n",
    "                         cm.flatten()/np.sum(cm)]\n",
    "    labels = [f\"{v1}\\n{v2}\" for v1, v2 in\n",
    "              zip(group_counts,group_percentages)]\n",
    "    labels = np.asarray(labels).reshape(2,2)\n",
    "    plt.figure(figsize = (10,7))\n",
    "    sns.heatmap(df_cm, annot=labels,fmt='')\n",
    "    plt.ylabel('True label')\n",
    "    plt.xlabel('Predicted label')"
   ]
  },
  {
   "cell_type": "markdown",
   "metadata": {},
   "source": [
    "### Ensemble Methods Overview\n",
    "\n",
    "Ensembles are machine learning methods for combining predictions from multiple separate models.\n",
    "\n",
    "The central motivation is rooted under the belief that a committee of experts working together can perform better than a single expert. Each model (“expert”) should have some independence from others – diversification. The final combined prediction could be more accurate and have less variance. It’s OK to have some of the models being simple (aka “weak learners”), like a single decision tree. It can make computational time faster, compared to multiple complex models.\n",
    "\n",
    "Bagging and boosting are two types of ensemble learning techniques. These two decrease the variance of single estimate as they combine several estimates from different models. So the result may be a model with higher stability.\n"
   ]
  },
  {
   "cell_type": "markdown",
   "metadata": {},
   "source": [
    "#### Confusion Matrix/Model Summary\n",
    "\n",
    "True Positives (TP): The model predicted they would buy, and they did.\n",
    "\n",
    "True Negatives (TN): The model predicted they would not buy, and they didn't.\n",
    "\n",
    "False Positives (FP): The model predicted they would buy, but they did not (a \"Type I error\"). \n",
    "\n",
    "False Negatives (FN): The model predicted they would not buy, but the did (a \"Type II error\")."
   ]
  },
  {
   "cell_type": "markdown",
   "metadata": {},
   "source": [
    "Recall is TP/(TP+FN) - True Positives as a percentage of True Positives + False Negatves\n",
    "\n",
    "Accuracy is (TP+TN)/(TP+TN+FP+FN) - Accurate Predictions as a percentage of Total Predictions\n",
    "\n",
    "Precision is TP/(TP+FP) - True Positives as a percentage of All Positives\n",
    "\n",
    "Classification Error rate is (FP+FN)/(TP+TN+FP+FN) - Inaccurate Predictions as a percentage of Total Predictions"
   ]
  },
  {
   "cell_type": "markdown",
   "metadata": {},
   "source": [
    "### Model evaluation criterion\n",
    "\n",
    "#### A model can make two types of wrong predictions:\n",
    "1. Predicting a customer will purchase our travel package, but they don't \n",
    "2. Predicting a customer will not purchase our travel package, yet they do\n",
    "\n",
    "#### Which case is more important? \n",
    "* Predicting that customer will purchase our travel package, but they don't. That is, we spend time and money marketing to a certain segment of customers with the anticipation that they are likely to buy a travel package from us - but they do not. \n",
    "* However, we also want to minimize the instances where we are wrong - even if they do purchase a travel package. \n",
    "\n",
    "Therefore, we will focus on maximizing Accuracy and Recall. "
   ]
  },
  {
   "cell_type": "markdown",
   "metadata": {},
   "source": [
    "We expect a very high Accuracy, Recall, and Precision on the training set. However, if it is much lower on the test set, the model is overfitted to the training set."
   ]
  },
  {
   "cell_type": "markdown",
   "metadata": {},
   "source": [
    "## <a id = \"link5\"> Modeling: Bagging </a> "
   ]
  },
  {
   "cell_type": "markdown",
   "metadata": {},
   "source": [
    "#### Bagging Overiew"
   ]
  },
  {
   "cell_type": "markdown",
   "metadata": {},
   "source": [
    "Bagging takes a bunch of samples from one sample to make a bunch of weak learners into a strong learner. \n",
    "\n",
    "Bagging is used to reduce variance of the model and it tends to assign an equal weight to each model in the final prediction.\n",
    "\n",
    "- We have built 3 sets of bagging models here - Decision Tree, Bagging Classifier, and Random Forest Classifier.\n",
    "- First, we built models with default parameters and then use hyperparameter tuning to optimize the model performance.\n"
   ]
  },
  {
   "cell_type": "markdown",
   "metadata": {},
   "source": [
    "### Model 1: Decision Tree Model (\"dtree_inital\")"
   ]
  },
  {
   "cell_type": "code",
   "execution_count": null,
   "metadata": {},
   "outputs": [],
   "source": [
    "dtree_initial = DecisionTreeClassifier(random_state=1)"
   ]
  },
  {
   "cell_type": "code",
   "execution_count": null,
   "metadata": {},
   "outputs": [],
   "source": [
    "dtree_initial.fit(X_train, y_train)"
   ]
  },
  {
   "cell_type": "code",
   "execution_count": null,
   "metadata": {},
   "outputs": [],
   "source": [
    "make_confusion_matrix(dtree_initial,y_test)"
   ]
  },
  {
   "cell_type": "markdown",
   "metadata": {},
   "source": [
    "#### Decision Tree Classifier Model without Tuning (\"dtree_initial\"):\n",
    "- This model predicted that 200 (13.6%) customers would purchase a travel package and they did (True Positive)\n",
    "- This model predicted that 78 (5.3%) customers would purchase a travel package, but they did not (False Positive) - Type I Error\n",
    "- This model predicted that 1,113 (75.9%) customers would not buy a travel package, and they did not (True Negative)\n",
    "- This model predicted that 76 (5.2%) customers would not buy a travel package, but they did (False Negative) - Type II Error"
   ]
  },
  {
   "cell_type": "code",
   "execution_count": null,
   "metadata": {},
   "outputs": [],
   "source": [
    "dtree_initial_acc = get_accuracy_score(dtree_initial)\n",
    "dtree_initial_recall = get_recall_score(dtree_initial)\n",
    "dtree_initial_precision = get_precision_score(dtree_initial)"
   ]
  },
  {
   "cell_type": "markdown",
   "metadata": {},
   "source": [
    "### Model 2: Decision Tree Classifier Model with Class Weights Hyperparameter (\"dtree\")"
   ]
  },
  {
   "cell_type": "markdown",
   "metadata": {},
   "source": [
    "* If the frequency of class A is 19% and the frequency of class B is 81%, then class B will become the dominant class and the decision tree will become biased toward the dominant classes.\n",
    "\n",
    "* In this case, we can pass a dictionary {0:0.19,1:0.81} to the model to specify the weight of each class and the decision tree will give more weightage to class 1.\n",
    "\n",
    "* class_weight is a hyperparameter for the decision tree classifier."
   ]
  },
  {
   "cell_type": "code",
   "execution_count": null,
   "metadata": {},
   "outputs": [],
   "source": [
    "dtree = DecisionTreeClassifier(criterion='gini',class_weight={0:0.19,1:0.81},random_state=1)"
   ]
  },
  {
   "cell_type": "code",
   "execution_count": null,
   "metadata": {},
   "outputs": [],
   "source": [
    "dtree.fit(X_train, y_train)"
   ]
  },
  {
   "cell_type": "code",
   "execution_count": null,
   "metadata": {},
   "outputs": [],
   "source": [
    "make_confusion_matrix(dtree,y_test)"
   ]
  },
  {
   "cell_type": "markdown",
   "metadata": {},
   "source": [
    "#### Decision Tree Classifier Model (\"dtree\") with Class Weights Hyperparameter:\n",
    "- This model predicted that 187 (12.8%) customers would purchase a travel package and they did (True Positive)\n",
    "- This model predicted that 92 (6.3%) customers would purchase a travel package, but they did not (False Positive) - Type I Error\n",
    "- This model predicted that 1,099 (74.9%) customers would not buy a travel package, and they did not (True Negative)\n",
    "- This model predicted that 89 (6.1%) customers would not buy a travel package, but they did (False Negative) - Type II Error"
   ]
  },
  {
   "cell_type": "code",
   "execution_count": null,
   "metadata": {},
   "outputs": [],
   "source": [
    "dtree_acc = get_accuracy_score(dtree)\n",
    "dtree_recall = get_recall_score(dtree)\n",
    "dtree_precision = get_precision_score(dtree)"
   ]
  },
  {
   "cell_type": "markdown",
   "metadata": {},
   "source": [
    "### Model 3: Bagging Classifier Model"
   ]
  },
  {
   "cell_type": "code",
   "execution_count": null,
   "metadata": {},
   "outputs": [],
   "source": [
    "#base_estimator for bagging classifier is a decision tree by default\n",
    "bagging = BaggingClassifier(random_state=1)\n",
    "bagging.fit(X_train,y_train)"
   ]
  },
  {
   "cell_type": "code",
   "execution_count": null,
   "metadata": {},
   "outputs": [],
   "source": [
    "make_confusion_matrix(bagging,y_test)"
   ]
  },
  {
   "cell_type": "markdown",
   "metadata": {},
   "source": [
    "#### Bagging Classifier Model (\"bagging\"):\n",
    "- This model predicted that 168 (11.5%) customers would purchase a travel package and they did (True Positive)\n",
    "- This model predicted that 21 (1.4%) customers would purchase a travel package, but they did not (False Positive) - Type I Error\n",
    "- This model predicted that 1,170 (79.8%) customers would not buy a travel package, and they did not (True Negative)\n",
    "- This model predicted that 108 (7.4%) customers would not buy a travel package, but they did (False Negative) - Type II Error"
   ]
  },
  {
   "cell_type": "code",
   "execution_count": null,
   "metadata": {},
   "outputs": [],
   "source": [
    "bagging_acc = get_accuracy_score(bagging)\n",
    "bagging_recall = get_recall_score(bagging)\n",
    "bagging_precision = get_precision_score(bagging)"
   ]
  },
  {
   "cell_type": "markdown",
   "metadata": {},
   "source": [
    "### Model 4: Bagging Classifier with a Weighted Decision Tree"
   ]
  },
  {
   "cell_type": "code",
   "execution_count": null,
   "metadata": {},
   "outputs": [],
   "source": [
    "bagging_wt = BaggingClassifier(base_estimator=DecisionTreeClassifier(criterion='gini',class_weight={0:0.19,1:0.81},random_state=1),random_state=1)\n",
    "bagging_wt.fit(X_train,y_train)"
   ]
  },
  {
   "cell_type": "code",
   "execution_count": null,
   "metadata": {},
   "outputs": [],
   "source": [
    "make_confusion_matrix(bagging_wt,y_test)"
   ]
  },
  {
   "cell_type": "markdown",
   "metadata": {},
   "source": [
    "#### Weighted Bagging Classifier Model (\"bagging_wt\"):\n",
    "- This model predicted that 142 (9.7%) customers would purchase a travel package and they did (True Positive)\n",
    "- This model predicted that 22 (1.5%) customers would purchase a travel package, but they did not (False Positive) - Type I Error\n",
    "- This model predicted that 1,169 (79.7%) customers would not buy a travel package, and they did not (True Negative)\n",
    "- This model predicted that 134 (9.1%) customers would not buy a travel package, but they did (False Negative) - Type II Error"
   ]
  },
  {
   "cell_type": "code",
   "execution_count": null,
   "metadata": {},
   "outputs": [],
   "source": [
    "bagging_wt_acc = get_accuracy_score(bagging_wt)\n",
    "bagging_wt_recall = get_recall_score(bagging_wt)\n",
    "bagging_wt_precision = get_precision_score(bagging_wt)"
   ]
  },
  {
   "cell_type": "markdown",
   "metadata": {},
   "source": [
    "### Model 5: Logistic Regression as the Base Estimator for the Bagging Classifier \"bagging_lr\" \n",
    "- Now, let's try and change the `base_estimator` of the bagging classifier, which is a decision tree by default.\n",
    "- We will pass the logistic regression as the base estimator for bagging classifier."
   ]
  },
  {
   "cell_type": "code",
   "execution_count": null,
   "metadata": {},
   "outputs": [],
   "source": [
    "bagging_lr=BaggingClassifier(base_estimator=LogisticRegression(random_state=1),random_state=1)\n",
    "bagging_lr.fit(X_train,y_train)"
   ]
  },
  {
   "cell_type": "code",
   "execution_count": null,
   "metadata": {},
   "outputs": [],
   "source": [
    "make_confusion_matrix(bagging_lr,y_test)"
   ]
  },
  {
   "cell_type": "markdown",
   "metadata": {},
   "source": [
    "#### Bagging Classifier Model with Logistic Regression as the Base Estimator (\"bagging_lr\"):\n",
    "- This model predicted that 46 (3.1%) customers would purchase a travel package and they did (True Positive)\n",
    "- This model predicted that 13 (0.9%) customers would purchase a travel package, but they did not (False Positive) - Type I Error\n",
    "- This model predicted that 1,178 (80.3%) customers would not buy a travel package, and they did not (True Negative)\n",
    "- This model predicted that 230 (15.7%) customers would not buy a travel package, but they did (False Negative) - Type II Error"
   ]
  },
  {
   "cell_type": "code",
   "execution_count": null,
   "metadata": {},
   "outputs": [],
   "source": [
    "bagging_lr_acc = get_accuracy_score(bagging_lr)\n",
    "bagging_lr_recall = get_recall_score(bagging_lr)\n",
    "bagging_lr_precision = get_precision_score(bagging_lr)"
   ]
  },
  {
   "cell_type": "markdown",
   "metadata": {},
   "source": [
    "### Model 6: Random Forest Model (\"rf\")"
   ]
  },
  {
   "cell_type": "code",
   "execution_count": null,
   "metadata": {},
   "outputs": [],
   "source": [
    "#Train the random forest classifier\n",
    "rf = RandomForestClassifier(random_state=1)\n",
    "rf.fit(X_train,y_train)"
   ]
  },
  {
   "cell_type": "code",
   "execution_count": null,
   "metadata": {},
   "outputs": [],
   "source": [
    "make_confusion_matrix(rf,y_test)"
   ]
  },
  {
   "cell_type": "markdown",
   "metadata": {},
   "source": [
    "#### Random Forest Model (\"rf\"):\n",
    "- This model predicted that 150 (10.2%) customers would purchase a travel package and they did (True Positive)\n",
    "- This model predicted that 13 (0.9%) customers would purchase a travel package, but they did not (False Positive) - Type I Error\n",
    "- This model predicted that 1,178 (80.3%) customers would not buy a travel package, and they did not (True Negative)\n",
    "- This model predicted that 126 (8.6%) customers would not buy a travel package, but they did (False Negative) - Type II Error"
   ]
  },
  {
   "cell_type": "code",
   "execution_count": null,
   "metadata": {},
   "outputs": [],
   "source": [
    "rf_acc = get_accuracy_score(rf)\n",
    "rf_recall = get_recall_score(rf)\n",
    "rf_precision = get_precision_score(rf)"
   ]
  },
  {
   "cell_type": "markdown",
   "metadata": {},
   "source": [
    "### Model 7: Random Forest with Class Weights (\"rf_wt\")"
   ]
  },
  {
   "cell_type": "code",
   "execution_count": null,
   "metadata": {},
   "outputs": [],
   "source": [
    "rf_wt = RandomForestClassifier(class_weight={0:0.19,1:0.81}, random_state=1)\n",
    "rf_wt.fit(X_train,y_train)"
   ]
  },
  {
   "cell_type": "code",
   "execution_count": null,
   "metadata": {},
   "outputs": [],
   "source": [
    "make_confusion_matrix(rf_wt,y_test)"
   ]
  },
  {
   "cell_type": "markdown",
   "metadata": {},
   "source": [
    "#### Weighted Random Forest Model (\"ref_wt\"):\n",
    "- This model predicted that 134 (9.1%) customers would purchase a travel package and they did (True Positive)\n",
    "- This model predicted that 11 (0.8%) customers would purchase a travel package, but they did not (False Positive) - Type I Error\n",
    "- This model predicted that 1,180 (80.4%) customers would not buy a travel package, and they did not (True Negative)\n",
    "- This model predicted that 142 (9.7%) customers would not buy a travel package, but they did (False Negative) - Type II Error"
   ]
  },
  {
   "cell_type": "code",
   "execution_count": null,
   "metadata": {},
   "outputs": [],
   "source": [
    "rf_wt_acc = get_accuracy_score(rf_wt)\n",
    "rf_wt_recall = get_recall_score(rf_wt)\n",
    "rf_wt_precision = get_precision_score(rf_wt)"
   ]
  },
  {
   "cell_type": "markdown",
   "metadata": {},
   "source": [
    "### Hyperparameter Tuning\n",
    "\n",
    "* Hyperparameter tuning is also tricky in the sense that there is no direct way to calculate how a change in the\n",
    "  hyperparameter value will reduce the loss of your model, so we resort to experimentation (i.e., we uses \"GridSearch\")\n",
    "* \"GridSearch\" is a tuning technique that attempts to compute the optimum values of hyperparameters. \n",
    "* It is an exhaustive search that is performed on a the specific parameter values of a model.\n",
    "* The parameters of the estimator/model used to apply these methods are optimized by cross-validated grid-search over a parameter grid."
   ]
  },
  {
   "cell_type": "markdown",
   "metadata": {},
   "source": [
    "**Some of the important hyperparameters available for the Bagging Classifier are:**\n",
    "\n",
    "- base_estimator: The base estimator to fit on random subsets of the dataset. If None(default), then the base estimator is a decision tree.\n",
    "- n_estimators: The number of trees (models) in the forest, default = 100.\n",
    "- max_features: The number of features to consider when looking for the best split. \n",
    "- bootstrap: Whether bootstrap samples are used when building trees (sampling with replacement). If False, the entire dataset is used to build each tree, default=True.\n",
    "- bootstrap_features: If it is true, then features are drawn with replacement. Default value is False.\n",
    "- max_samples: If bootstrap is True, then the number of samples to draw from X to train each base estimator. If None (default), then draw N samples, where N is the number of observations in the train data. If 700 rows are in our training dataset, each boostrapped sample will also include 700 rows by using sampling with replacement. \n",
    "- oob_score: Whether to use out-of-bag samples to estimate the generalization accuracy, default=False. "
   ]
  },
  {
   "cell_type": "markdown",
   "metadata": {},
   "source": [
    "### Model 8: Tuned Decision Tree Model (\"dtree_estimator\")"
   ]
  },
  {
   "cell_type": "code",
   "execution_count": null,
   "metadata": {},
   "outputs": [],
   "source": [
    "from sklearn.model_selection import GridSearchCV"
   ]
  },
  {
   "cell_type": "code",
   "execution_count": null,
   "metadata": {},
   "outputs": [],
   "source": [
    "# Choose the type of classifier. \n",
    "dtree_estimator = DecisionTreeClassifier(class_weight={0:0.19,1:0.81},random_state=1)\n",
    "\n",
    "# Grid of parameters to choose from \n",
    "# these are usually the best parameters for this type of model, with most inclusion that is not too computentionally intensive)\n",
    "parameters = {'max_depth': np.arange(2,30), \n",
    "              'min_samples_leaf': [1, 2, 5, 7, 10],\n",
    "              'max_leaf_nodes' : [2, 3, 5, 10,15],\n",
    "              'min_impurity_decrease': [0.0001,0.001,0.01,0.1]\n",
    "             }\n",
    "\n",
    "# Type of scoring used to compare parameter combinations\n",
    "scorer = metrics.make_scorer(metrics.accuracy_score)\n",
    "\n",
    "# Run the grid search\n",
    "grid_obj = GridSearchCV(dtree_estimator, parameters, scoring=scorer,cv=5)\n",
    "grid_obj = grid_obj.fit(X_train, y_train)\n",
    "\n",
    "# Set the clf to the best combination of parameters\n",
    "dtree_estimator = grid_obj.best_estimator_\n",
    "\n",
    "# Fit the best algorithm to the data. \n",
    "dtree_estimator.fit(X_train, y_train)"
   ]
  },
  {
   "cell_type": "code",
   "execution_count": null,
   "metadata": {},
   "outputs": [],
   "source": [
    "make_confusion_matrix(dtree_estimator,y_test)"
   ]
  },
  {
   "cell_type": "markdown",
   "metadata": {},
   "source": [
    "#### Tuned Decision Tree Classifier Model (\"dtree_estimator\"):\n",
    "- This model predicted that 0 (0.0%) customers would purchase a travel package and they did (True Positive)\n",
    "- This model predicted that 0 (0.0%) customers would purchase a travel package, but they did not (False Positive) - Type I Error\n",
    "- This model predicted that 1,191 (81.2%) customers would not buy a travel package, and they did not (True Negative)\n",
    "- This model predicted that 276 (18.8) customers would not buy a travel package, but they did (False Negative) - Type II Error"
   ]
  },
  {
   "cell_type": "code",
   "execution_count": null,
   "metadata": {},
   "outputs": [],
   "source": [
    "dtree_estimator_acc = get_accuracy_score(dtree_estimator)\n",
    "dtree_estimator_recall = get_recall_score(dtree_estimator)\n",
    "dtree_estimator_precision = get_precision_score(dtree_estimator)"
   ]
  },
  {
   "cell_type": "markdown",
   "metadata": {},
   "source": [
    "### Model 9: Tuned Bagging Classifier Model (\"bagging_estimator\")"
   ]
  },
  {
   "cell_type": "code",
   "execution_count": null,
   "metadata": {},
   "outputs": [],
   "source": [
    "# grid search for bagging classifier\n",
    "bagging_estimator = DecisionTreeClassifier(class_weight={0:0.19,1:0.81},random_state=1)\n",
    "param_grid = {'base_estimator':[bagging_estimator],\n",
    "              'n_estimators':[5,7,15,51,101],\n",
    "              'max_features': [0.7,0.8,0.9,1]\n",
    "             }\n",
    "\n",
    "grid = GridSearchCV(BaggingClassifier(random_state=1,bootstrap=True), param_grid=param_grid, scoring = 'accuracy', cv = 5)\n",
    "grid.fit(X_train, y_train)"
   ]
  },
  {
   "cell_type": "code",
   "execution_count": null,
   "metadata": {},
   "outputs": [],
   "source": [
    "## getting the best estimator\n",
    "bagging_estimator  = grid.best_estimator_\n",
    "bagging_estimator.fit(X_train,y_train)"
   ]
  },
  {
   "cell_type": "code",
   "execution_count": null,
   "metadata": {},
   "outputs": [],
   "source": [
    "make_confusion_matrix(bagging_estimator,y_test)"
   ]
  },
  {
   "cell_type": "markdown",
   "metadata": {},
   "source": [
    "#### Tuned Bagging Classifier Model (\"bagging_estimator\"):\n",
    "- This model predicted that 162 (11.0%) customers would purchase a travel package and they did (True Positive)\n",
    "- This model predicted that 10 (0.7%) customers would purchase a travel package, but they did not (False Positive) - Type I Error\n",
    "- This model predicted that 114 (7.8%) customers would not buy a travel package, and they did not (True Negative)\n",
    "- This model predicted that 1,181 (80.5%) customers would not buy a travel package, but they did (False Negative) - Type II Error"
   ]
  },
  {
   "cell_type": "code",
   "execution_count": null,
   "metadata": {},
   "outputs": [],
   "source": [
    "tuned_bagging_acc= get_accuracy_score(bagging_estimator)\n",
    "tuned_bagging_recall = get_recall_score(bagging_estimator)\n",
    "tuned_bagging_precision = get_precision_score(bagging_estimator)"
   ]
  },
  {
   "cell_type": "markdown",
   "metadata": {},
   "source": [
    "### Model 10: Tuned Random Forest Model"
   ]
  },
  {
   "cell_type": "markdown",
   "metadata": {},
   "source": [
    "#### Hyperparameter Tuning"
   ]
  },
  {
   "cell_type": "markdown",
   "metadata": {},
   "source": [
    "**Now, let's see if we can get a better model by tuning the random forest classifier. Some of the important hyperparameters available for random forest classifier are:**\n",
    "\n",
    "The Hyperparameters available in Random Forest Classifiers are almost identical to that of Bagging Classifiers. \n",
    "\n",
    "- n_estimators: The number of trees in the forest, default = 100.\n",
    "- max_features: The number of features to consider when looking for the best split. \n",
    "- class_weight: Weights associated with classes in the form {class_label: weight}.If not given, all classes are supposed to have weight one.  \n",
    "- For example: If the frequency of class 0 is 80% and the frequency of class 1 is 20% in the data, then class 0 will become the dominant class and the model will become biased toward the dominant classes. In this case, we can pass a dictionary {0:0.2,1:0.8} to the model to specify the weight of each class and the random forest will give more weightage to class 1. \n",
    "- bootstrap: Whether bootstrap samples are used when building trees. If False, the entire dataset is used to build each tree, default=True.\n",
    "- max_samples: If bootstrap is True, then the number of samples to draw from X to train each base estimator. If None (default), then draw N samples, where N is the number of observations in the train data.\n",
    "- oob_score: Whether to use out-of-bag samples to estimate the generalization accuracy, default=False.\n",
    "\n",
    "- Note: A lot of hyperparameters of Decision Trees are also available to tune  Random Forest like max_depth, min_sample_split etc.\n"
   ]
  },
  {
   "cell_type": "code",
   "execution_count": null,
   "metadata": {},
   "outputs": [],
   "source": [
    "# Choose the type of classifier. \n",
    "rf_estimator = RandomForestClassifier(random_state=1)\n",
    "\n",
    "# Grid of parameters to choose from\n",
    "parameters = {  \n",
    "        \"n_estimators\": [110,251,501],\n",
    "        \"min_samples_leaf\": np.arange(1, 6,1),\n",
    "        \"max_features\": [0.7,0.9,'log2','auto'],\n",
    "        \"max_samples\": [0.7,0.9,None],\n",
    "}\n",
    "\n",
    "\n",
    "# Type of scoring used to compare parameter combinations\n",
    "scorer = metrics.make_scorer(metrics.accuracy_score)\n",
    "\n",
    "# Run the grid search\n",
    "grid_obj = GridSearchCV(rf_estimator, parameters, scoring=scorer,cv=5)\n",
    "grid_obj = grid_obj.fit(X_train, y_train)\n",
    "\n",
    "# Set the clf to the best combination of parameters\n",
    "rf_estimator = grid_obj.best_estimator_\n",
    "\n",
    "# Fit the best algorithm to the data. \n",
    "rf_estimator.fit(X_train, y_train)"
   ]
  },
  {
   "cell_type": "code",
   "execution_count": null,
   "metadata": {},
   "outputs": [],
   "source": [
    "make_confusion_matrix(rf_estimator,y_test)"
   ]
  },
  {
   "cell_type": "markdown",
   "metadata": {},
   "source": [
    "#### Tuned Random Forest Model (\"rf_estimator\"):\n",
    "- This model predicted that 188 (12.6%) customers would purchase a travel package and they did (True Positive)\n",
    "- This model predicted that 18 (1.2%) customers would purchase a travel package, but they did not (False Positive) - Type I Error\n",
    "- This model predicted that 1,173 (80.0%) customers would not buy a travel package, and they did not (True Negative)\n",
    "- This model predicted that 88 (6.0%) customers would not buy a travel package, but they did (False Negative) - Type II Error"
   ]
  },
  {
   "cell_type": "code",
   "execution_count": null,
   "metadata": {},
   "outputs": [],
   "source": [
    "tuned_rf_acc = get_accuracy_score(rf_estimator)\n",
    "tuned_rf_recall = get_recall_score(rf_estimator)\n",
    "tuned_rf_precision = get_precision_score(rf_estimator)"
   ]
  },
  {
   "cell_type": "markdown",
   "metadata": {},
   "source": [
    "### Model 11: Tuned Random Forest Model with Class Weights "
   ]
  },
  {
   "cell_type": "code",
   "execution_count": null,
   "metadata": {},
   "outputs": [],
   "source": [
    "# Choose the type of classifier. \n",
    "rf_estimator_weighted = RandomForestClassifier(random_state=1)\n",
    "\n",
    "# Grid of parameters to choose from\n",
    "\n",
    "parameters = {\n",
    "    \"class_weight\": [{0: 0.19, 1: 0.81}],\n",
    "    \"n_estimators\": [100,150,200,250],\n",
    "    \"min_samples_leaf\": np.arange(5, 10),\n",
    "    \"max_features\": np.arange(0.2, 0.7, 0.1),\n",
    "    \"max_samples\": np.arange(0.3, 0.7, 0.1),\n",
    "}\n",
    "\n",
    "# Type of scoring used to compare parameter combinations\n",
    "acc_scorer = metrics.make_scorer(metrics.accuracy_score)\n",
    "\n",
    "# Run the grid search\n",
    "grid_obj = GridSearchCV(rf_estimator_weighted, parameters, scoring=acc_scorer,cv=5)\n",
    "grid_obj = grid_obj.fit(X_train, y_train)\n",
    "\n",
    "# Set the clf to the best combination of parameters\n",
    "rf_estimator_weighted = grid_obj.best_estimator_\n",
    "\n",
    "# Fit the best algorithm to the data.\n",
    "rf_estimator_weighted.fit(X_train, y_train)"
   ]
  },
  {
   "cell_type": "code",
   "execution_count": null,
   "metadata": {},
   "outputs": [],
   "source": [
    "make_confusion_matrix(rf_estimator_weighted,y_test)"
   ]
  },
  {
   "cell_type": "markdown",
   "metadata": {},
   "source": [
    "#### Tuned Random Forest Model with Class Weights (\"rf_estimator_weighted\"):\n",
    "- This model predicted that 177 (12.1%) customers would purchase a travel package and they did (True Positive)\n",
    "- This model predicted that 77 (5.3%) customers would purchase a travel package, but they did not (False Positive) - Type I Error\n",
    "- This model predicted that 1,114 (75.9%) customers would not buy a travel package, and they did not (True Negative)\n",
    "- This model predicted that 99 (6.8%) customers would not buy a travel package, but they did (False Negative) - Type II Error"
   ]
  },
  {
   "cell_type": "code",
   "execution_count": null,
   "metadata": {},
   "outputs": [],
   "source": [
    "rf_estimator_weighted_acc = get_accuracy_score(rf_estimator_weighted)\n",
    "rf_estimator_weighted_recall = get_recall_score(rf_estimator_weighted)\n",
    "rf_estimator_weighted_precision = get_precision_score(rf_estimator_weighted)"
   ]
  },
  {
   "cell_type": "markdown",
   "metadata": {},
   "source": [
    "### Modeling Insights and Observations: Bagging"
   ]
  },
  {
   "cell_type": "markdown",
   "metadata": {},
   "source": [
    "#### Comparing all thge Bagging Models"
   ]
  },
  {
   "cell_type": "code",
   "execution_count": null,
   "metadata": {},
   "outputs": [],
   "source": [
    "# defining list of models (we created 8 in total)\n",
    "models = [dtree_initial,dtree,dtree_estimator,bagging,bagging_wt,bagging_estimator,bagging_lr,rf,rf_wt,rf_estimator,rf_estimator_weighted]\n",
    "# defining empty lists to add train and test results\n",
    "acc_train = []\n",
    "acc_test = []\n",
    "recall_train = []\n",
    "recall_test = []\n",
    "precision_train = []\n",
    "precision_test = []\n",
    "\n",
    "# looping through all the models to get the accuracy,recall and precision scores\n",
    "for model in models:\n",
    "    # accuracy score\n",
    "    j = get_accuracy_score(model,False)\n",
    "    acc_train.append(j[0])\n",
    "    acc_test.append(j[1])\n",
    "    # recall score\n",
    "    k = get_recall_score(model,False)\n",
    "    recall_train.append(k[0])\n",
    "    recall_test.append(k[1])\n",
    "    # precision score\n",
    "    l = get_precision_score(model,False)\n",
    "    precision_train.append(l[0])\n",
    "    precision_test.append(l[1])"
   ]
  },
  {
   "cell_type": "code",
   "execution_count": null,
   "metadata": {},
   "outputs": [],
   "source": [
    "# create a data frame to compare the models \n",
    "comparison_frame = pd.DataFrame({'Model':['Decision Tree','Decision Tree with Class Weights','Decision Tree with Class Weights, tuned','Bagging Classifier','Bagging Classifier with Decision Tree, wtd',\n",
    "                                          'Bagging Classifier with Decision Tree, tuned','Bagging Classifier with Logisitic Regression','Random Forest','Random Forest with Class Weights','Tuned Random Forest','Random Forest with Class Weights, tuned'], \n",
    "                                          'Train_Accuracy': acc_train,\n",
    "                                          'Test_Accuracy': acc_test,\n",
    "                                          'Train_Recall': recall_train,\n",
    "                                          'Test_Recall': recall_test,\n",
    "                                          'Train_Precision': precision_train,\n",
    "                                          'Test_Precision': precision_test}) \n",
    "comparison_frame"
   ]
  },
  {
   "cell_type": "markdown",
   "metadata": {},
   "source": [
    "### Feature Importance of the Best Bagging Models:"
   ]
  },
  {
   "cell_type": "markdown",
   "metadata": {},
   "source": [
    "#### Decision Tree Model (\"dtree_initial\"):"
   ]
  },
  {
   "cell_type": "code",
   "execution_count": null,
   "metadata": {},
   "outputs": [],
   "source": [
    "print (pd.DataFrame(dtree_initial.feature_importances_, columns = [\"Imp\"], index = X_train.columns).sort_values(by = 'Imp', ascending = False))"
   ]
  },
  {
   "cell_type": "code",
   "execution_count": null,
   "metadata": {},
   "outputs": [],
   "source": [
    "feature_names = X_train.columns"
   ]
  },
  {
   "cell_type": "code",
   "execution_count": null,
   "metadata": {},
   "outputs": [],
   "source": [
    "importances = dtree_initial.feature_importances_\n",
    "indices = np.argsort(importances)\n",
    "feature_names = list(X.columns)\n",
    "\n",
    "plt.figure(figsize=(12,12))\n",
    "plt.title('Feature Importances')\n",
    "plt.barh(range(len(indices)), importances[indices], color='violet', align='center')\n",
    "plt.yticks(range(len(indices)), [feature_names[i] for i in indices])\n",
    "plt.xlabel('Relative Importance')\n",
    "plt.show()"
   ]
  },
  {
   "cell_type": "markdown",
   "metadata": {},
   "source": [
    "#### Decision Tree Model (\"dtree_initial\") Summary: \n",
    "    \n",
    "The Decision Tree (“dtree_initial”) model has a large number of features (~50), but only a few contribute more than 5% weighting/importance. They include:\n",
    "•\tCustomer Age (16%)\n",
    "•\tDuration of the Sales Pitch, in minutes (14%)\n",
    "•\tMonthly Income (10%)\n",
    "•\tCustomers who are an Executive in their work organization (7%)\n",
    "•\tThe average number of trips the customer takes each year (6%)\n",
    "•\tIf the customer is a passport holder, for international travel (6%).\n",
    "\n",
    "These six factors contribute about 60% of the feature importance. In other words, based upon the initial Decision Tree model, older customers who are executives with higher income that tend to travel often and have a passport are more likely to purchase our travel package. The longer the duration of the sales pitch to them (within reason, of course), the greater the chance of a sale. \n"
   ]
  },
  {
   "cell_type": "markdown",
   "metadata": {},
   "source": [
    "#### Tuned Random Forest Model (\"rf_estimator\")"
   ]
  },
  {
   "cell_type": "code",
   "execution_count": null,
   "metadata": {},
   "outputs": [],
   "source": [
    "print (pd.DataFrame(rf_estimator.feature_importances_, columns = [\"Imp\"], index = X_train.columns).sort_values(by = 'Imp', ascending = False))"
   ]
  },
  {
   "cell_type": "code",
   "execution_count": null,
   "metadata": {},
   "outputs": [],
   "source": [
    "feature_names = X_train.columns"
   ]
  },
  {
   "cell_type": "code",
   "execution_count": null,
   "metadata": {
    "scrolled": true
   },
   "outputs": [],
   "source": [
    "importances = rf_estimator.feature_importances_\n",
    "indices = np.argsort(importances)\n",
    "feature_names = list(X.columns)\n",
    "\n",
    "plt.figure(figsize=(12,12))\n",
    "plt.title('Feature Importances')\n",
    "plt.barh(range(len(indices)), importances[indices], color='violet', align='center')\n",
    "plt.yticks(range(len(indices)), [feature_names[i] for i in indices])\n",
    "plt.xlabel('Relative Importance')\n",
    "plt.show()"
   ]
  },
  {
   "cell_type": "markdown",
   "metadata": {},
   "source": [
    "#### Tuned Random Forest Model (\"rf_estimator\") Summary: \n",
    "\n",
    "The Tuned Random Forest Model (“rf_estimator”) model has a large number of features (~50), but only five contribute more than 5% weighting/importance. They include:\n",
    "•\tMonthly Income (12%)\n",
    "•\tCustomer Age (12%)\n",
    "•\tDuration of the Sales Pitch, in minutes (11%)\n",
    "•\tIf the customer is a passport holder, for international travel (7%)\n",
    "•\tThe average number of trips the customer takes each year (6%).\n",
    "\n",
    "Other important factors, albeit to a lesser extent include: \n",
    "•\tIf the product pitched was “Basic”, opposed to a higher-level package\n",
    "•\tCustomers who are an Executive in their work organization\n",
    "•\tIf the customer is Single.\n",
    "\n",
    "The top five factors contribute about 50% of the feature importance. In other words, similar to the initial Decision Tree model, older (single) customers who are executives with higher income that tend to travel often and have a passport are more likely to purchase our travel package. The longer the duration of the sales pitch to them (within reason, of course), the greater the chance of a sale. They also tend to prefer packages with fewer frills and expense. \n"
   ]
  },
  {
   "cell_type": "markdown",
   "metadata": {},
   "source": [
    "## <a id = \"link6\"> Modeling: Boosting </a>"
   ]
  },
  {
   "cell_type": "markdown",
   "metadata": {},
   "source": [
    "#### Boosting Overview"
   ]
  },
  {
   "cell_type": "markdown",
   "metadata": {},
   "source": [
    "Boosting refers to the general problem of producing a very accurate prediction rule by combining rough and moderately inaccurate rules-of-thumb. The idea of boosting came out of the idea of whether a weak learner can be modified to become better. A weak hypothesis or weak learner is defined as one whose performance is at least slightly better than random chance.\n",
    "The statistical framework cast boosting as a numerical optimization problem where the objective is to minimize the loss of the model by adding weak learners using a gradient descent like procedure.\n",
    "\n",
    "- We are going to build 3 sets of ensemble models here - AdaBoost Classifier, Gradient Boosting Classifier and XGBoost Classifier.\n",
    "- First, we will build these models with default parameters and then use hyperparameter tuning to optimize the model performance."
   ]
  },
  {
   "cell_type": "code",
   "execution_count": null,
   "metadata": {},
   "outputs": [],
   "source": [
    "## Function to create confusion matrix\n",
    "def make_confusion_matrix(model,y_actual,labels=[1, 0]):\n",
    "    '''\n",
    "    model : classifier to predict values of X\n",
    "    y_actual : ground truth  \n",
    "    \n",
    "    '''\n",
    "    y_predict = model.predict(X_test)\n",
    "    cm=metrics.confusion_matrix( y_actual, y_predict, labels=[0, 1])\n",
    "    df_cm = pd.DataFrame(cm, index = [i for i in [\"Actual - No\",\"Actual - Yes\"]],\n",
    "                  columns = [i for i in ['Predicted - No','Predicted - Yes']])\n",
    "    group_counts = [\"{0:0.0f}\".format(value) for value in\n",
    "                cm.flatten()]\n",
    "    group_percentages = [\"{0:.2%}\".format(value) for value in\n",
    "                         cm.flatten()/np.sum(cm)]\n",
    "    labels = [f\"{v1}\\n{v2}\" for v1, v2 in\n",
    "              zip(group_counts,group_percentages)]\n",
    "    labels = np.asarray(labels).reshape(2,2)\n",
    "    plt.figure(figsize = (10,7))\n",
    "    sns.heatmap(df_cm, annot=labels,fmt='')\n",
    "    plt.ylabel('True label')\n",
    "    plt.xlabel('Predicted label')"
   ]
  },
  {
   "cell_type": "code",
   "execution_count": null,
   "metadata": {},
   "outputs": [],
   "source": [
    "##  Function to calculate different metric scores of the model - Accuracy, Recall and Precision\n",
    "def get_metrics_score(model,flag=True):\n",
    "    '''\n",
    "    model : classifier to predict values of X\n",
    "\n",
    "    '''\n",
    "    # defining an empty list to store train and test results\n",
    "    score_list=[] \n",
    "    \n",
    "    pred_train = model.predict(X_train)\n",
    "    pred_test = model.predict(X_test)\n",
    "    \n",
    "    train_acc = model.score(X_train,y_train)\n",
    "    test_acc = model.score(X_test,y_test)\n",
    "    \n",
    "    train_recall = metrics.recall_score(y_train,pred_train)\n",
    "    test_recall = metrics.recall_score(y_test,pred_test)\n",
    "    \n",
    "    train_precision = metrics.precision_score(y_train,pred_train)\n",
    "    test_precision = metrics.precision_score(y_test,pred_test)\n",
    "    \n",
    "    score_list.extend((train_acc,test_acc,train_recall,test_recall,train_precision,test_precision))\n",
    "        \n",
    "    # If the flag is set to True then only the following print statements will be dispayed. The default value is set to True.\n",
    "    if flag == True: \n",
    "        print(\"Accuracy on training set : \",model.score(X_train,y_train))\n",
    "        print(\"Accuracy on test set : \",model.score(X_test,y_test))\n",
    "        print(\"Recall on training set : \",metrics.recall_score(y_train,pred_train))\n",
    "        print(\"Recall on test set : \",metrics.recall_score(y_test,pred_test))\n",
    "        print(\"Precision on training set : \",metrics.precision_score(y_train,pred_train))\n",
    "        print(\"Precision on test set : \",metrics.precision_score(y_test,pred_test))\n",
    "    \n",
    "    return score_list # returning the list with train and test scores"
   ]
  },
  {
   "cell_type": "markdown",
   "metadata": {},
   "source": [
    "### Model 1: Adaptive (Ada)Boost Model (\"abc\")"
   ]
  },
  {
   "cell_type": "code",
   "execution_count": null,
   "metadata": {},
   "outputs": [],
   "source": [
    "abc = AdaBoostClassifier(random_state=1)\n",
    "abc.fit(X_train,y_train)"
   ]
  },
  {
   "cell_type": "code",
   "execution_count": null,
   "metadata": {},
   "outputs": [],
   "source": [
    "make_confusion_matrix(abc,y_test)"
   ]
  },
  {
   "cell_type": "markdown",
   "metadata": {},
   "source": [
    "#### AdaBoost Model (\"abc\"):\n",
    "- This model predicted that 87 (5.9%) customers would purchase a travel package and they did (True Positive)\n",
    "- This model predicted that 40 (2.7%) customers would purchase a travel package, but they did not (False Positive) - Type I Error\n",
    "- This model predicted that 1,151 (78.5%) customers would not buy a travel package, and they did not (True Negative)\n",
    "- This model predicted that 189 (12.9%) customers would not buy a travel package, but they did (False Negative) - Type II Error"
   ]
  },
  {
   "cell_type": "code",
   "execution_count": null,
   "metadata": {},
   "outputs": [],
   "source": [
    "#Using above defined function to get accuracy, recall and precision on train and test set\n",
    "abc_score=get_metrics_score(abc)"
   ]
  },
  {
   "cell_type": "markdown",
   "metadata": {},
   "source": [
    "### Model 2: Gradient Boost Model (\"gbc\")"
   ]
  },
  {
   "cell_type": "code",
   "execution_count": null,
   "metadata": {},
   "outputs": [],
   "source": [
    "gbc = GradientBoostingClassifier(random_state=1)\n",
    "gbc.fit(X_train,y_train)"
   ]
  },
  {
   "cell_type": "code",
   "execution_count": null,
   "metadata": {},
   "outputs": [],
   "source": [
    "make_confusion_matrix(gbc,y_test)"
   ]
  },
  {
   "cell_type": "markdown",
   "metadata": {},
   "source": [
    "#### Gradient Boost Model (\"gbc\"):\n",
    "- This model predicted that 100 (6.8%) customers would purchase a travel package and they did (True Positive)\n",
    "- This model predicted that 25 (1.7%) customers would purchase a travel package, but they did not (False Positive) - Type I Error\n",
    "- This model predicted that 1,166 (79.5%) customers would not buy a travel package, and they did not (True Negative)\n",
    "- This model predicted that 176 (12.0%) customers would not buy a travel package, but they did (False Negative) - Type II Error"
   ]
  },
  {
   "cell_type": "code",
   "execution_count": null,
   "metadata": {},
   "outputs": [],
   "source": [
    "#Using above defined function to get accuracy, recall and precision on train and test set\n",
    "gbc_score=get_metrics_score(gbc)"
   ]
  },
  {
   "cell_type": "markdown",
   "metadata": {},
   "source": [
    "### Model 3: Extreme Gradient Boosting (XG Boost) Model (\"xgb\")"
   ]
  },
  {
   "cell_type": "code",
   "execution_count": null,
   "metadata": {},
   "outputs": [],
   "source": [
    "xgb = XGBClassifier(random_state=1,\n",
    "                   eval_metric='logloss')\n",
    "xgb.fit(X_train,y_train)"
   ]
  },
  {
   "cell_type": "code",
   "execution_count": null,
   "metadata": {},
   "outputs": [],
   "source": [
    "make_confusion_matrix(xgb,y_test)"
   ]
  },
  {
   "cell_type": "markdown",
   "metadata": {},
   "source": [
    "#### XGBoost Model (\"xgb\"):\n",
    "- This model predicted that 191 (13.0%) customers would purchase a travel package and they did (True Positive)\n",
    "- This model predicted that 25 (1.7%) customers would purchase a travel package, but they did not (False Positive) - Type I Error\n",
    "- This model predicted that 1,166 (79.5%) customers would not buy a travel package, and they did not (True Negative)\n",
    "- This model predicted that 85 (5.8%) customers would not buy a travel package, but they did (False Negative) - Type II Error"
   ]
  },
  {
   "cell_type": "code",
   "execution_count": null,
   "metadata": {},
   "outputs": [],
   "source": [
    "#Using above defined function to get accuracy, recall and precision on train and test set\n",
    "xgb_score=get_metrics_score(xgb)"
   ]
  },
  {
   "cell_type": "markdown",
   "metadata": {},
   "source": [
    "### Model 4: Tuned Adaptive (Ada)Boost Model (\"abc_tuned\")"
   ]
  },
  {
   "cell_type": "markdown",
   "metadata": {},
   "source": [
    "#### Hyperparameter Tuning"
   ]
  },
  {
   "cell_type": "markdown",
   "metadata": {},
   "source": [
    "An AdaBoost classifier is a meta-estimator that begins by fitting a classifier on the original dataset and then fits additional copies of the classifier on the same dataset but where the weights of incorrectly classified instances are adjusted such that subsequent classifiers focus more on difficult cases.\n",
    "Some important hyperparamters are:\n",
    "base_estimator: The base estimator from which the boosted ensemble is built. By default the base estimator is a decision tree with max_depth=1\n",
    "n_estimators: The maximum number of estimators at which boosting is terminated. Default value is 50.\n",
    "learning_rate: Learning rate shrinks the contribution of each classifier by learning_rate. There is a trade-off between learning_rate and n_estimators."
   ]
  },
  {
   "cell_type": "code",
   "execution_count": null,
   "metadata": {},
   "outputs": [],
   "source": [
    "abc_tuned = AdaBoostClassifier(random_state=1)\n",
    "\n",
    "# Grid of parameters to choose from\n",
    "## add from article\n",
    "parameters = {\n",
    "    #Let's try different max_depth for base_estimator\n",
    "    \"base_estimator\":[DecisionTreeClassifier(max_depth=1),DecisionTreeClassifier(max_depth=2),DecisionTreeClassifier(max_depth=3)],\n",
    "    \"n_estimators\": np.arange(10,110,10),\n",
    "    \"learning_rate\":np.arange(0.1,2,0.1)\n",
    "}\n",
    "\n",
    "# Type of scoring used to compare parameter combinations\n",
    "acc_scorer = metrics.make_scorer(metrics.accuracy_score)\n",
    "\n",
    "# Run the grid search\n",
    "grid_obj = GridSearchCV(abc_tuned, parameters, scoring=acc_scorer,cv=5)\n",
    "grid_obj = grid_obj.fit(X_train, y_train)\n",
    "\n",
    "# Set the clf to the best combination of parameters\n",
    "abc_tuned = grid_obj.best_estimator_\n",
    "\n",
    "# Fit the best algorithm to the data.\n",
    "abc_tuned.fit(X_train, y_train)"
   ]
  },
  {
   "cell_type": "code",
   "execution_count": null,
   "metadata": {},
   "outputs": [],
   "source": [
    "make_confusion_matrix(abc_tuned,y_test)"
   ]
  },
  {
   "cell_type": "markdown",
   "metadata": {},
   "source": [
    "#### Tuned Adaptive (Ada)Boost Model (\"abc_tuned\"):\n",
    "- This model predicted that 175 (11.9%) customers would purchase a travel package and they did (True Positive)\n",
    "- This model predicted that 66 (4.5%) customers would purchase a travel package, but they did not (False Positive) - Type I Error\n",
    "- This model predicted that 1,125 (76.7%) customers would not buy a travel package, and they did not (True Negative)\n",
    "- This model predicted that 101 (6.9%) customers would not buy a travel package, but they did (False Negative) - Type II Error"
   ]
  },
  {
   "cell_type": "code",
   "execution_count": null,
   "metadata": {},
   "outputs": [],
   "source": [
    "#Using above defined function to get accuracy, recall and precision on train and test set\n",
    "abc_tuned_score=get_metrics_score(abc_tuned)"
   ]
  },
  {
   "cell_type": "markdown",
   "metadata": {},
   "source": [
    "### Model 4: Tuned Gradient Boost Model (\"gbc_tuned\")"
   ]
  },
  {
   "cell_type": "markdown",
   "metadata": {},
   "source": [
    "#### Hyperparameter Tuning"
   ]
  },
  {
   "cell_type": "markdown",
   "metadata": {},
   "source": [
    "Most of the hyperparameters available are same as random forest classifier.\n",
    "init: An estimator object that is used to compute the initial predictions. If ‘zero’, the initial raw predictions are set to zero. By default, a DummyEstimator predicting the classes priors is used.\n",
    "There is no class_weights parameter in gradient boosting."
   ]
  },
  {
   "cell_type": "markdown",
   "metadata": {},
   "source": [
    "We first use AdaBoost classifier as the estimator for initial predictions"
   ]
  },
  {
   "cell_type": "code",
   "execution_count": null,
   "metadata": {},
   "outputs": [],
   "source": [
    "# Choose the type of classifier. \n",
    "gbc_tuned = GradientBoostingClassifier(init=AdaBoostClassifier(random_state=1),random_state=1)\n",
    "\n",
    "# Grid of parameters to choose from\n",
    "\n",
    "parameters = {\n",
    "    \"n_estimators\": [100,150,200,250],\n",
    "    \"subsample\":[0.8,0.9,1],\n",
    "    \"max_features\":[0.7,0.8,0.9,1]\n",
    "}\n",
    "\n",
    "# Type of scoring used to compare parameter combinations\n",
    "acc_scorer = metrics.make_scorer(metrics.accuracy_score)\n",
    "\n",
    "# Run the grid search\n",
    "grid_obj = GridSearchCV(gbc_tuned, parameters, scoring=acc_scorer,cv=5)\n",
    "grid_obj = grid_obj.fit(X_train, y_train)\n",
    "\n",
    "# Set the clf to the best combination of parameters\n",
    "gbc_tuned = grid_obj.best_estimator_\n",
    "\n",
    "# Fit the best algorithm to the data.\n",
    "gbc_tuned.fit(X_train, y_train)"
   ]
  },
  {
   "cell_type": "code",
   "execution_count": null,
   "metadata": {},
   "outputs": [],
   "source": [
    "make_confusion_matrix(gbc_tuned,y_test)"
   ]
  },
  {
   "cell_type": "markdown",
   "metadata": {},
   "source": [
    "#### Tuned Gradient Boost Model (\"gbc_tuned\"):\n",
    "- This model predicted that 126 (8.6%) customers would purchase a travel package and they did (True Positive)\n",
    "- This model predicted that 33 (2.3%) customers would purchase a travel package, but they did not (False Positive) - Type I Error\n",
    "- This model predicted that 1,158 (78.9%) customers would not buy a travel package, and they did not (True Negative)\n",
    "- This model predicted that 150 (10.2%) customers would not buy a travel package, but they did (False Negative) - Type II Error"
   ]
  },
  {
   "cell_type": "code",
   "execution_count": null,
   "metadata": {},
   "outputs": [],
   "source": [
    "#Using above defined function to get accuracy, recall and precision on train and test set\n",
    "gbc_tuned_score=get_metrics_score(gbc_tuned)"
   ]
  },
  {
   "cell_type": "markdown",
   "metadata": {},
   "source": [
    "### Model 5: Tuned Extreme Gradient Boosting (XG Boost) Model (\"xgb_tuned\")"
   ]
  },
  {
   "cell_type": "markdown",
   "metadata": {},
   "source": [
    "**XGBoost has many hyper parameters which can be tuned to increase the model performance. Some of the important parameters are:**\n",
    "- scale_pos_weight:Control the balance of positive and negative weights, useful for unbalanced classes. It has range from 0 to $\\infty$.\n",
    "- subsample: Corresponds to the fraction of observations (the rows) to subsample at each step. By default it is set to 1 meaning that we use all rows.\n",
    "- colsample_bytree: Corresponds to the fraction of features (the columns) to use.\n",
    "- colsample_bylevel: The subsample ratio of columns for each level. Columns are subsampled from the set of columns chosen for the current tree.\n",
    "- colsample_bynode: The subsample ratio of columns for each node (split). Columns are subsampled from the set of columns chosen for the current level.\n",
    "- max_depth: is the maximum number of nodes allowed from the root to the farthest leaf of a tree.\n",
    "- learning_rate/eta: Makes the model more robust by shrinking the weights on each step.\n",
    "- gamma: A node is split only when the resulting split gives a positive reduction in the loss function. Gamma specifies the minimum loss reduction required to make a split."
   ]
  },
  {
   "cell_type": "code",
   "execution_count": null,
   "metadata": {},
   "outputs": [],
   "source": [
    "# Choose the type of classifier. \n",
    "xgb_tuned = XGBClassifier(random_state=1,\n",
    "                          eval_metric='logloss')\n",
    "\n",
    "\n",
    "# Grid of parameters to choose from\n",
    "## add from\n",
    "parameters = {\n",
    "    \"n_estimators\": np.arange(10,100,20),\n",
    "    \"scale_pos_weight\":[0,1,2,5],\n",
    "    \"subsample\":[0.5,0.7,0.9,1],\n",
    "    \"learning_rate\":[0.01,0.1,0.2,0.05],\n",
    "    \"gamma\":[0,1,3],\n",
    "    \"colsample_bytree\":[0.5,0.7,0.9,1],\n",
    "    \"colsample_bylevel\":[0.5,0.7,0.9,1]\n",
    "}\n",
    "\n",
    "# Type of scoring used to compare parameter combinations\n",
    "acc_scorer = metrics.make_scorer(metrics.accuracy_score)\n",
    "\n",
    "# Run the grid search\n",
    "grid_obj = GridSearchCV(xgb_tuned, parameters,scoring=acc_scorer,cv=5)\n",
    "grid_obj = grid_obj.fit(X_train, y_train)\n",
    "\n",
    "# Set the clf to the best combination of parameters\n",
    "xgb_tuned = grid_obj.best_estimator_\n",
    "\n",
    "# Fit the best algorithm to the data.\n",
    "xgb_tuned.fit(X_train, y_train)"
   ]
  },
  {
   "cell_type": "markdown",
   "metadata": {},
   "source": [
    "#### I HAD TO INTERRUPT THE PROGRAM (ABOVE) AND RESTATE THE PARAMETERS (BELOW) BECAUSE IT WOULD NOT PROCESS THE ABOVE AFTER HOURS OF RUNNING"
   ]
  },
  {
   "cell_type": "code",
   "execution_count": null,
   "metadata": {},
   "outputs": [],
   "source": [
    "# Choose the type of classifier. \n",
    "xgb_tuned = XGBClassifier(random_state=1,\n",
    "                          eval_metric='logloss')\n",
    "\n",
    "\n",
    "# Grid of parameters to choose from\n",
    "## add from\n",
    "parameters = {\n",
    "    \"n_estimators\": [100],\n",
    "    \"scale_pos_weight\":[0,1],\n",
    "    \"subsample\":[0.8],\n",
    "    \"learning_rate\":[0.1],\n",
    "    \"gamma\":[0,1],\n",
    "    \"colsample_bytree\":[0.8]\n",
    "}\n",
    "\n",
    "# Type of scoring used to compare parameter combinations\n",
    "acc_scorer = metrics.make_scorer(metrics.accuracy_score)\n",
    "\n",
    "# Run the grid search\n",
    "grid_obj = GridSearchCV(xgb_tuned, parameters,scoring=acc_scorer,cv=5)\n",
    "grid_obj = grid_obj.fit(X_train, y_train)\n",
    "\n",
    "# Set the clf to the best combination of parameters\n",
    "xgb_tuned = grid_obj.best_estimator_\n",
    "\n",
    "# Fit the best algorithm to the data.\n",
    "xgb_tuned.fit(X_train, y_train)"
   ]
  },
  {
   "cell_type": "code",
   "execution_count": null,
   "metadata": {},
   "outputs": [],
   "source": [
    "make_confusion_matrix(xgb_tuned,y_test)"
   ]
  },
  {
   "cell_type": "markdown",
   "metadata": {},
   "source": [
    "#### Tuned Extreme Gradient (XG) Boost Model (\"xgb_tuned\"):\n",
    "- This model predicted that 92 (6.3%) customers would purchase a travel package and they did (True Positive)\n",
    "- This model predicted that 21 (1.4%) customers would purchase a travel package, but they did not (False Positive) - Type I Error\n",
    "- This model predicted that 1,17 (79.8%) customers would not buy a travel package, and they did not (True Negative)\n",
    "- This model predicted that 184 (12.5%) customers would not buy a travel package, but they did (False Negative) - Type II Error"
   ]
  },
  {
   "cell_type": "code",
   "execution_count": null,
   "metadata": {},
   "outputs": [],
   "source": [
    "#Using above defined function to get accuracy, recall and precision on train and test set\n",
    "xgb_tuned_score=get_metrics_score(xgb_tuned)"
   ]
  },
  {
   "cell_type": "markdown",
   "metadata": {},
   "source": [
    "#### Comparing All the Boosting Models"
   ]
  },
  {
   "cell_type": "code",
   "execution_count": null,
   "metadata": {},
   "outputs": [],
   "source": [
    "# defining list of models\n",
    "models = [abc, abc_tuned, gbc, gbc_tuned, xgb, xgb_tuned]\n",
    "\n",
    "# defining empty lists to add train and test results\n",
    "acc_train = []\n",
    "acc_test = []\n",
    "recall_train = []\n",
    "recall_test = []\n",
    "precision_train = []\n",
    "precision_test = []\n",
    "\n",
    "\n",
    "# looping through all the models to get the accuracy, precall and precision scores\n",
    "for model in models:\n",
    "    j = get_metrics_score(model,False)\n",
    "    acc_train.append(np.round(j[0],2))\n",
    "    acc_test.append(np.round(j[1],2))\n",
    "    recall_train.append(np.round(j[2],2))\n",
    "    recall_test.append(np.round(j[3],2))\n",
    "    precision_train.append(np.round(j[4],2))\n",
    "    precision_test.append(np.round(j[5],2))"
   ]
  },
  {
   "cell_type": "code",
   "execution_count": null,
   "metadata": {},
   "outputs": [],
   "source": [
    "comparison_frame = pd.DataFrame({'Model':['AdaBoost with default paramters','AdaBoost Tuned', \n",
    "                                          'Gradient Boosting with default parameters',\n",
    "                                          'Gradient Boosting Tuned','XGBoost with default parameters','XGBoost Tuned'], \n",
    "                                          'Train_Accuracy': acc_train,'Test_Accuracy': acc_test,\n",
    "                                          'Train_Recall':recall_train,'Test_Recall':recall_test,\n",
    "                                          'Train_Precision':precision_train,'Test_Precision':precision_test}) \n",
    "comparison_frame"
   ]
  },
  {
   "cell_type": "code",
   "execution_count": null,
   "metadata": {},
   "outputs": [],
   "source": []
  },
  {
   "cell_type": "markdown",
   "metadata": {},
   "source": [
    "### Feature Importance of the Best Boosting Model:"
   ]
  },
  {
   "cell_type": "markdown",
   "metadata": {},
   "source": [
    "#### Extreme Gradient Boosting (XG Boost) Model (\"xgb\"):"
   ]
  },
  {
   "cell_type": "code",
   "execution_count": null,
   "metadata": {},
   "outputs": [],
   "source": [
    "print (pd.DataFrame(xgb.feature_importances_, columns = [\"Imp\"], index = X_train.columns).sort_values(by = 'Imp', ascending = False))"
   ]
  },
  {
   "cell_type": "code",
   "execution_count": null,
   "metadata": {},
   "outputs": [],
   "source": [
    "feature_names = X_train.columns"
   ]
  },
  {
   "cell_type": "code",
   "execution_count": null,
   "metadata": {},
   "outputs": [],
   "source": [
    "importances = xgb.feature_importances_\n",
    "indices = np.argsort(importances)\n",
    "feature_names = list(X.columns)\n",
    "\n",
    "plt.figure(figsize=(12,12))\n",
    "plt.title('Feature Importances')\n",
    "plt.barh(range(len(indices)), importances[indices], color='violet', align='center')\n",
    "plt.yticks(range(len(indices)), [feature_names[i] for i in indices])\n",
    "plt.xlabel('Relative Importance')\n",
    "plt.show()"
   ]
  },
  {
   "cell_type": "markdown",
   "metadata": {},
   "source": [
    "## <a id = \"link7\"> Final Insights and Recommendations </a> "
   ]
  },
  {
   "cell_type": "markdown",
   "metadata": {},
   "source": [
    "Throughout this notebook, I have performed extensive analysis on the data of nearly 5,000 \"Visit with Us\" customers. \n",
    "\n",
    "I explored individual variables (univariate analysis) to describe and find patterns in the data. Some of the interesting insights include: \n",
    "\n",
    "1.\tAbout 70% of the customers self-inquired about a travel package in the past. \n",
    "2.\tNearly 75% of all customers received either three or four follow-ups by sales staff after the initial pitch. Less than 10% received fewer than three and nearly 20% received five or more follow-ups (none more than six). \n",
    "3.\tSurprisingly, 71% of customers do not have a passport for international travel.\n",
    "4.\tOur sales pitch satisfaction scores have room for improvement. Nearly one-third rated 2 or worse (scale of 1 = worse, to 5 = best).  \n",
    "5.\tThe majority of customers are senior within their work organization. About 38% identify as an Executive, followed by 35% as Manager, 15% as Senior Manager, 7% as AVP, and 5% as VP. \n",
    "\n",
    "I have also performed thorough multivariate analysis - looking at the relationships of two or more variables. Some of the insightful takeaways include:\n",
    "1.\tIn the past, 920 customers (19% sales rate) purchased a travel package from us – 67% of them inquired on their own and 33% were contacted by one of our sales representatives. \n",
    "2.\tThe success rate on “company invited” type of contact was 22%, compared to 18% when customers inquired on their own. \n",
    "3.\t28% of customers employed by a large business purchased a travel package, compared to 18% from a small business. 17% of salaried employees purchased a travel package and both customers free lance purchased a travel package.\n",
    "4.\tThere is a positive correlation between how often a sales rep follows-up with a customer and them purchasing a travel package. With six follow-ups, the purchase rate was 40%, 25% with five, 18% with four, 17% with three, and around 10% when we followed-up only once or twice. \n",
    "5.\tWhen we pitched our Basic package (which was most of the time), our success rate was high – at 30%, compared to 19% for the Standard package, 11% for Deluxe, and only 8% for 6% for King and Super Deluxe, respectively.\n",
    "6.\tSingle travelers purchased a travel package from us at the highest rate (33%), followed by unmarried (24%). Both divorced and married travelers appear much less likely – at about 13% each.   \n",
    "7.\tUnsurprisingly, customers with a passport are nearly three times as likely to purchase a travel package. The past success rate is 35% for those who have a passport, and 12% for those who do not. \n",
    "8.\tHigher customer satisfaction scores (re: sales pitch) tend to result in a greater likelihood to purchase a travel package. Those who rated “5” (best), purchased 22% of the time. The success rate for those who rated “4” is 18%, “3” is 21%, and noticeably lower when ratings are two or worse (15%). \n",
    "9.\tExecutives purchased a travel package from us at a much higher rate (30%) than others. Senior Managers and Managers were at 17% and 12%, respectively. Both VP and AVP were under 10% (9% and 6%, respectively). \n",
    "10.\tThe annual frequency at which customers travel appears to little variation amongst those who purchased from us and those who did not. \n",
    "\n",
    "#### As we unveil our new product, the \"Wellness Tourism Package\" we should be mindful of the analysis and findings summarized above.  \n",
    "\n",
    "Doing so will help us overcome challenges of our prior campaign to make the marketing expenditure more efficient. \n",
    "\n",
    "That's why we've harnessed the data of existing and potential customers to help us expand our customer base by employing a more data-driven business model. "
   ]
  },
  {
   "cell_type": "markdown",
   "metadata": {},
   "source": [
    "During and following the exploratory data analysis, I performed a series of data processing activities to address issues that would be problematic in modeling. \n",
    "\n",
    "I then prepared the data into a format that could be used for applying two sets of ensemble models - \"Bagging\" and \"Boosting.\" \n",
    "\n",
    "All told, I have built nearly twenty candidate models to see which ones would be most useful to help our Marketing department and senior management make informed decisions in our upcoming campaign. "
   ]
  },
  {
   "cell_type": "code",
   "execution_count": null,
   "metadata": {},
   "outputs": [],
   "source": []
  }
 ],
 "metadata": {
  "kernelspec": {
   "display_name": "Python 3 (ipykernel)",
   "language": "python",
   "name": "python3"
  },
  "language_info": {
   "codemirror_mode": {
    "name": "ipython",
    "version": 3
   },
   "file_extension": ".py",
   "mimetype": "text/x-python",
   "name": "python",
   "nbconvert_exporter": "python",
   "pygments_lexer": "ipython3",
   "version": "3.12.4"
  }
 },
 "nbformat": 4,
 "nbformat_minor": 4
}
